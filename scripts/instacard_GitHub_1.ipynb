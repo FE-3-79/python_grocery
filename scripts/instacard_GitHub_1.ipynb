{
 "cells": [
  {
   "cell_type": "markdown",
   "id": "afb37f49-3f0d-4830-9cd0-ce2995c26372",
   "metadata": {
    "jp-MarkdownHeadingCollapsed": true,
    "tags": []
   },
   "source": [
    "### importing libraries"
   ]
  },
  {
   "cell_type": "code",
   "execution_count": 3,
   "id": "20659a33-96f5-4db8-a839-64b9ef841f85",
   "metadata": {
    "tags": []
   },
   "outputs": [],
   "source": [
    "# Importing libraries (pandas, numpy, os)\n",
    "import pandas as pd\n",
    "import numpy as np\n",
    "import os \n",
    "import matplotlib.pyplot as plt\n",
    "import os \n",
    "import seaborn as sns\n",
    "import scipy"
   ]
  },
  {
   "cell_type": "markdown",
   "id": "7ab8fefb-65b0-44a9-a8a0-7dca75d41094",
   "metadata": {
    "tags": []
   },
   "source": [
    "### importing data frames"
   ]
  },
  {
   "cell_type": "code",
   "execution_count": 5,
   "id": "75115bc4-bf0f-4416-99f8-59893d788197",
   "metadata": {},
   "outputs": [],
   "source": [
    "# import the df_clean_fix.pkl data\n",
    "df_final_table = pd.read_pickle(os.path.join(path,'df_clean_fix.pkl'))"
   ]
  },
  {
   "cell_type": "markdown",
   "id": "be0f9bc2-21b4-4844-b752-39feaa844a1b",
   "metadata": {
    "jp-MarkdownHeadingCollapsed": true,
    "tags": []
   },
   "source": [
    "### checking final data frames before combining with df_customers"
   ]
  },
  {
   "cell_type": "code",
   "execution_count": 6,
   "id": "d8f4fb51-1553-4f25-b59a-eb960d2c9985",
   "metadata": {},
   "outputs": [
    {
     "name": "stdout",
     "output_type": "stream",
     "text": [
      "<class 'pandas.core.frame.DataFrame'>\n",
      "Int64Index: 32406041 entries, 0 to 32406040\n",
      "Data columns (total 28 columns):\n",
      " #   Column                  Dtype   \n",
      "---  ------                  -----   \n",
      " 0   Unnamed: 0_x            int64   \n",
      " 1   order_id                int64   \n",
      " 2   user_id                 int64   \n",
      " 3   eval_set                object  \n",
      " 4   order_number            int64   \n",
      " 5   order_dow               int64   \n",
      " 6   order_hour_of_day       int64   \n",
      " 7   days_since_prior_order  float64 \n",
      " 8   First Name              object  \n",
      " 9   Surnam                  object  \n",
      " 10  Gender                  object  \n",
      " 11  STATE                   object  \n",
      " 12  Age                     int64   \n",
      " 13  date_joined             object  \n",
      " 14  n_dependants            int64   \n",
      " 15  fam_status              object  \n",
      " 16  income                  int64   \n",
      " 17  _merge                  category\n",
      " 18  product_id              int64   \n",
      " 19  add_to_cart_order       int64   \n",
      " 20  reordered               int64   \n",
      " 21  merge_indicator         category\n",
      " 22  Unnamed: 0_y            int64   \n",
      " 23  product_name            object  \n",
      " 24  aisle_id                int64   \n",
      " 25  department_id           int64   \n",
      " 26  prices                  float64 \n",
      " 27  merge_indicator_2       category\n",
      "dtypes: category(3), float64(2), int64(15), object(8)\n",
      "memory usage: 6.4+ GB\n"
     ]
    }
   ],
   "source": [
    "df_final_table.info()"
   ]
  },
  {
   "cell_type": "code",
   "execution_count": 7,
   "id": "0b2c6e37-3021-404b-97fc-02ac42ffbd0b",
   "metadata": {},
   "outputs": [
    {
     "data": {
      "text/plain": [
       "Unnamed: 0_x                    0\n",
       "order_id                        0\n",
       "user_id                         0\n",
       "eval_set                        0\n",
       "order_number                    0\n",
       "order_dow                       0\n",
       "order_hour_of_day               0\n",
       "days_since_prior_order    2076201\n",
       "First Name                1775189\n",
       "Surnam                          0\n",
       "Gender                          0\n",
       "STATE                           0\n",
       "Age                             0\n",
       "date_joined                     0\n",
       "n_dependants                    0\n",
       "fam_status                      0\n",
       "income                          0\n",
       "_merge                          0\n",
       "product_id                      0\n",
       "add_to_cart_order               0\n",
       "reordered                       0\n",
       "merge_indicator                 0\n",
       "Unnamed: 0_y                    0\n",
       "product_name                    0\n",
       "aisle_id                        0\n",
       "department_id                   0\n",
       "prices                          0\n",
       "merge_indicator_2               0\n",
       "dtype: int64"
      ]
     },
     "execution_count": 7,
     "metadata": {},
     "output_type": "execute_result"
    }
   ],
   "source": [
    "df_final_table.isnull().sum()"
   ]
  },
  {
   "cell_type": "markdown",
   "id": "98056313-2062-41f2-a5de-9b42ee29d87f",
   "metadata": {
    "jp-MarkdownHeadingCollapsed": true,
    "tags": []
   },
   "source": [
    "### optimizing data frame"
   ]
  },
  {
   "cell_type": "code",
   "execution_count": 8,
   "id": "b9b4e8ba-85c9-464d-ada3-7ec8fda83e9a",
   "metadata": {},
   "outputs": [],
   "source": [
    "# delete 'Unnamed:0' columne\n",
    "df_final_table.drop('Unnamed: 0_y', axis=1, inplace=True)"
   ]
  },
  {
   "cell_type": "code",
   "execution_count": 9,
   "id": "8e2b2193-d2e3-423d-87fc-be24d7a0fb88",
   "metadata": {},
   "outputs": [],
   "source": [
    "# delete '_merge` columne\n",
    "df_final_table.drop('_merge', axis=1, inplace=True)"
   ]
  },
  {
   "cell_type": "code",
   "execution_count": 10,
   "id": "06519bec-83b9-49cc-badc-2ce682c75845",
   "metadata": {
    "tags": []
   },
   "outputs": [],
   "source": [
    "# delete 'merge_indicator' columne\n",
    "df_final_table.drop('merge_indicator', axis=1, inplace=True)"
   ]
  },
  {
   "cell_type": "code",
   "execution_count": 11,
   "id": "a4f0b43e-e5e5-43af-aea2-5aa7f9c6dab5",
   "metadata": {},
   "outputs": [],
   "source": [
    "# delete 'merge_indicator_2' columne\n",
    "df_final_table.drop('merge_indicator_2', axis=1, inplace=True)"
   ]
  },
  {
   "cell_type": "code",
   "execution_count": 12,
   "id": "fdd9440c-a549-45cd-b0a9-58cee0652733",
   "metadata": {},
   "outputs": [],
   "source": [
    "# change columne 'order_dow' name\n",
    "df_final_table = df_final_table.rename(columns={'order_dow':'order_day_of_week'})"
   ]
  },
  {
   "cell_type": "code",
   "execution_count": 13,
   "id": "9fa30cc1-ad17-4f18-872b-840832e9a072",
   "metadata": {},
   "outputs": [],
   "source": [
    "# change data type\n",
    "df_final_table['Gender'] = df_final_table['Gender'].astype('category')"
   ]
  },
  {
   "cell_type": "code",
   "execution_count": 14,
   "id": "27283bb4-fb21-4b01-9482-91be85f6ff45",
   "metadata": {},
   "outputs": [],
   "source": [
    "# change columne name\n",
    "df_final_table = df_final_table.rename(columns={'Age': 'age', 'STATE': 'state', 'Surnam' : 'surname', 'First Name':'first_name'})"
   ]
  },
  {
   "cell_type": "code",
   "execution_count": 15,
   "id": "9ecb9c5b-3752-4ba4-aadc-8d70ae929065",
   "metadata": {},
   "outputs": [],
   "source": [
    "# change columne name\n",
    "df_final_table = df_final_table.rename(columns={'Gender': 'gender'})"
   ]
  },
  {
   "cell_type": "markdown",
   "id": "7bac5b14-ec4f-4ded-9471-a6333be10166",
   "metadata": {
    "jp-MarkdownHeadingCollapsed": true,
    "tags": []
   },
   "source": [
    "### creating flags"
   ]
  },
  {
   "cell_type": "markdown",
   "id": "013d5e45-1004-46a2-97b5-a294532abb59",
   "metadata": {
    "jp-MarkdownHeadingCollapsed": true,
    "tags": []
   },
   "source": [
    "#### create 'max_order_flag'"
   ]
  },
  {
   "cell_type": "code",
   "execution_count": 16,
   "id": "99f373fe-fca8-4a47-87ca-a9f4ec710c34",
   "metadata": {},
   "outputs": [],
   "source": [
    "# using the transform function to generate the maximum orders for each user\n",
    "df_final_table['max_order_flag'] = df_final_table.groupby(['user_id'])['order_number'].transform(np.max)"
   ]
  },
  {
   "cell_type": "code",
   "execution_count": 17,
   "id": "b2b29e87-9693-4127-805b-e1c49063706a",
   "metadata": {
    "tags": []
   },
   "outputs": [
    {
     "data": {
      "text/html": [
       "<div>\n",
       "<style scoped>\n",
       "    .dataframe tbody tr th:only-of-type {\n",
       "        vertical-align: middle;\n",
       "    }\n",
       "\n",
       "    .dataframe tbody tr th {\n",
       "        vertical-align: top;\n",
       "    }\n",
       "\n",
       "    .dataframe thead th {\n",
       "        text-align: right;\n",
       "    }\n",
       "</style>\n",
       "<table border=\"1\" class=\"dataframe\">\n",
       "  <thead>\n",
       "    <tr style=\"text-align: right;\">\n",
       "      <th></th>\n",
       "      <th>Unnamed: 0_x</th>\n",
       "      <th>order_id</th>\n",
       "      <th>user_id</th>\n",
       "      <th>eval_set</th>\n",
       "      <th>order_number</th>\n",
       "      <th>order_day_of_week</th>\n",
       "      <th>order_hour_of_day</th>\n",
       "      <th>days_since_prior_order</th>\n",
       "      <th>first_name</th>\n",
       "      <th>surname</th>\n",
       "      <th>...</th>\n",
       "      <th>fam_status</th>\n",
       "      <th>income</th>\n",
       "      <th>product_id</th>\n",
       "      <th>add_to_cart_order</th>\n",
       "      <th>reordered</th>\n",
       "      <th>product_name</th>\n",
       "      <th>aisle_id</th>\n",
       "      <th>department_id</th>\n",
       "      <th>prices</th>\n",
       "      <th>max_order_flag</th>\n",
       "    </tr>\n",
       "  </thead>\n",
       "  <tbody>\n",
       "    <tr>\n",
       "      <th>0</th>\n",
       "      <td>0</td>\n",
       "      <td>2539329</td>\n",
       "      <td>1</td>\n",
       "      <td>prior</td>\n",
       "      <td>1</td>\n",
       "      <td>2</td>\n",
       "      <td>8</td>\n",
       "      <td>NaN</td>\n",
       "      <td>Linda</td>\n",
       "      <td>Nguyen</td>\n",
       "      <td>...</td>\n",
       "      <td>married</td>\n",
       "      <td>40423</td>\n",
       "      <td>196</td>\n",
       "      <td>1</td>\n",
       "      <td>0</td>\n",
       "      <td>Soda</td>\n",
       "      <td>77</td>\n",
       "      <td>7</td>\n",
       "      <td>9.0</td>\n",
       "      <td>10</td>\n",
       "    </tr>\n",
       "    <tr>\n",
       "      <th>1</th>\n",
       "      <td>1</td>\n",
       "      <td>2398795</td>\n",
       "      <td>1</td>\n",
       "      <td>prior</td>\n",
       "      <td>2</td>\n",
       "      <td>3</td>\n",
       "      <td>7</td>\n",
       "      <td>15.0</td>\n",
       "      <td>Linda</td>\n",
       "      <td>Nguyen</td>\n",
       "      <td>...</td>\n",
       "      <td>married</td>\n",
       "      <td>40423</td>\n",
       "      <td>196</td>\n",
       "      <td>1</td>\n",
       "      <td>1</td>\n",
       "      <td>Soda</td>\n",
       "      <td>77</td>\n",
       "      <td>7</td>\n",
       "      <td>9.0</td>\n",
       "      <td>10</td>\n",
       "    </tr>\n",
       "    <tr>\n",
       "      <th>2</th>\n",
       "      <td>2</td>\n",
       "      <td>473747</td>\n",
       "      <td>1</td>\n",
       "      <td>prior</td>\n",
       "      <td>3</td>\n",
       "      <td>3</td>\n",
       "      <td>12</td>\n",
       "      <td>21.0</td>\n",
       "      <td>Linda</td>\n",
       "      <td>Nguyen</td>\n",
       "      <td>...</td>\n",
       "      <td>married</td>\n",
       "      <td>40423</td>\n",
       "      <td>196</td>\n",
       "      <td>1</td>\n",
       "      <td>1</td>\n",
       "      <td>Soda</td>\n",
       "      <td>77</td>\n",
       "      <td>7</td>\n",
       "      <td>9.0</td>\n",
       "      <td>10</td>\n",
       "    </tr>\n",
       "    <tr>\n",
       "      <th>3</th>\n",
       "      <td>3</td>\n",
       "      <td>2254736</td>\n",
       "      <td>1</td>\n",
       "      <td>prior</td>\n",
       "      <td>4</td>\n",
       "      <td>4</td>\n",
       "      <td>7</td>\n",
       "      <td>29.0</td>\n",
       "      <td>Linda</td>\n",
       "      <td>Nguyen</td>\n",
       "      <td>...</td>\n",
       "      <td>married</td>\n",
       "      <td>40423</td>\n",
       "      <td>196</td>\n",
       "      <td>1</td>\n",
       "      <td>1</td>\n",
       "      <td>Soda</td>\n",
       "      <td>77</td>\n",
       "      <td>7</td>\n",
       "      <td>9.0</td>\n",
       "      <td>10</td>\n",
       "    </tr>\n",
       "    <tr>\n",
       "      <th>4</th>\n",
       "      <td>4</td>\n",
       "      <td>431534</td>\n",
       "      <td>1</td>\n",
       "      <td>prior</td>\n",
       "      <td>5</td>\n",
       "      <td>4</td>\n",
       "      <td>15</td>\n",
       "      <td>28.0</td>\n",
       "      <td>Linda</td>\n",
       "      <td>Nguyen</td>\n",
       "      <td>...</td>\n",
       "      <td>married</td>\n",
       "      <td>40423</td>\n",
       "      <td>196</td>\n",
       "      <td>1</td>\n",
       "      <td>1</td>\n",
       "      <td>Soda</td>\n",
       "      <td>77</td>\n",
       "      <td>7</td>\n",
       "      <td>9.0</td>\n",
       "      <td>10</td>\n",
       "    </tr>\n",
       "  </tbody>\n",
       "</table>\n",
       "<p>5 rows × 25 columns</p>\n",
       "</div>"
      ],
      "text/plain": [
       "   Unnamed: 0_x  order_id  user_id eval_set  order_number  order_day_of_week  \\\n",
       "0             0   2539329        1    prior             1                  2   \n",
       "1             1   2398795        1    prior             2                  3   \n",
       "2             2    473747        1    prior             3                  3   \n",
       "3             3   2254736        1    prior             4                  4   \n",
       "4             4    431534        1    prior             5                  4   \n",
       "\n",
       "   order_hour_of_day  days_since_prior_order first_name surname  ...  \\\n",
       "0                  8                     NaN      Linda  Nguyen  ...   \n",
       "1                  7                    15.0      Linda  Nguyen  ...   \n",
       "2                 12                    21.0      Linda  Nguyen  ...   \n",
       "3                  7                    29.0      Linda  Nguyen  ...   \n",
       "4                 15                    28.0      Linda  Nguyen  ...   \n",
       "\n",
       "  fam_status income  product_id add_to_cart_order  reordered product_name  \\\n",
       "0    married  40423         196                 1          0         Soda   \n",
       "1    married  40423         196                 1          1         Soda   \n",
       "2    married  40423         196                 1          1         Soda   \n",
       "3    married  40423         196                 1          1         Soda   \n",
       "4    married  40423         196                 1          1         Soda   \n",
       "\n",
       "   aisle_id  department_id  prices  max_order_flag  \n",
       "0        77              7     9.0              10  \n",
       "1        77              7     9.0              10  \n",
       "2        77              7     9.0              10  \n",
       "3        77              7     9.0              10  \n",
       "4        77              7     9.0              10  \n",
       "\n",
       "[5 rows x 25 columns]"
      ]
     },
     "execution_count": 17,
     "metadata": {},
     "output_type": "execute_result"
    }
   ],
   "source": [
    "# Check if there is a new column\n",
    "df_final_table.head()"
   ]
  },
  {
   "cell_type": "markdown",
   "id": "04c3901f-e2e7-44ea-bd73-bb5d0760702f",
   "metadata": {
    "jp-MarkdownHeadingCollapsed": true,
    "tags": []
   },
   "source": [
    "#### create 'mean_price_flag'"
   ]
  },
  {
   "cell_type": "code",
   "execution_count": 18,
   "id": "feb6195a-7320-4096-9dec-8b5a047f5260",
   "metadata": {},
   "outputs": [],
   "source": [
    "# using the transform function to to generate the mean prices for each user\n",
    "df_final_table['mean_order_flag'] = df_final_table.groupby(['user_id'])['prices'].transform(np.mean)"
   ]
  },
  {
   "cell_type": "markdown",
   "id": "06cd5850-f702-444c-bed9-3d140a29118f",
   "metadata": {
    "jp-MarkdownHeadingCollapsed": true,
    "tags": []
   },
   "source": [
    "#### create 'price_range_flag'"
   ]
  },
  {
   "cell_type": "code",
   "execution_count": 19,
   "id": "092ef657-f54f-44d8-8093-5ae29eef943d",
   "metadata": {
    "tags": []
   },
   "outputs": [],
   "source": [
    "# if- statement to category individual prices\n",
    "def price_label(row):\n",
    "\n",
    "  if row['prices'] <= 5:\n",
    "    return 'Low-range product'\n",
    "  elif (row['prices'] > 5) and (row['prices'] <= 15):\n",
    "    return 'Mid-range product'\n",
    "  elif row['prices'] > 15:\n",
    "    return 'High range product'\n",
    "  else: return 'Not enough data'"
   ]
  },
  {
   "cell_type": "code",
   "execution_count": 20,
   "id": "668c638f-ac0a-431a-a656-c29e53ff8826",
   "metadata": {},
   "outputs": [],
   "source": [
    "# add a new columne price_label\n",
    "df_final_table['price_range_flag'] = df_final_table.apply(price_label, axis=1)"
   ]
  },
  {
   "cell_type": "markdown",
   "id": "bf32b41d-370e-4d21-a000-1fd59b2a9142",
   "metadata": {
    "jp-MarkdownHeadingCollapsed": true,
    "tags": []
   },
   "source": [
    "#### create 'busiest_days_flag'"
   ]
  },
  {
   "cell_type": "code",
   "execution_count": 21,
   "id": "12bee059-8732-441c-8e86-968f39fd0604",
   "metadata": {},
   "outputs": [
    {
     "data": {
      "text/plain": [
       "0    6204404\n",
       "1    5660456\n",
       "6    4496635\n",
       "2    4213986\n",
       "5    4205906\n",
       "3    3840701\n",
       "4    3783953\n",
       "Name: order_day_of_week, dtype: int64"
      ]
     },
     "execution_count": 21,
     "metadata": {},
     "output_type": "execute_result"
    }
   ],
   "source": [
    "# count the days which day most orders take place\n",
    "df_final_table['order_day_of_week'].value_counts(dropna = False)"
   ]
  },
  {
   "cell_type": "code",
   "execution_count": 22,
   "id": "cf5c58d2-dfc7-4428-98c1-2b66d6eb7e45",
   "metadata": {
    "tags": []
   },
   "outputs": [],
   "source": [
    "# create a new columne for “Busiest day,” “Least busy day,” and “Regularly busy day.” \n",
    "result = []\n",
    "\n",
    "for value in df_final_table[\"order_day_of_week\"]:\n",
    "  if value == 0:\n",
    "    result.append(\"Busiest day\")\n",
    "  elif value == 4:\n",
    "    result.append(\"Least busy\")\n",
    "  else:\n",
    "    result.append(\"Regularly busy\")"
   ]
  },
  {
   "cell_type": "code",
   "execution_count": 23,
   "id": "b4169b68-783a-4e7f-97da-4aeb36d36e6f",
   "metadata": {},
   "outputs": [],
   "source": [
    "# adding the list result to the dataframe\n",
    "df_final_table['busiest_day'] = result"
   ]
  },
  {
   "cell_type": "code",
   "execution_count": 24,
   "id": "11b1b828-76a8-4b11-b113-250ce3a17a5d",
   "metadata": {},
   "outputs": [
    {
     "data": {
      "text/plain": [
       "Regularly busy    22417684\n",
       "Busiest day        6204404\n",
       "Least busy         3783953\n",
       "Name: busiest_day, dtype: int64"
      ]
     },
     "execution_count": 24,
     "metadata": {},
     "output_type": "execute_result"
    }
   ],
   "source": [
    "# counting the entries\n",
    "df_final_table['busiest_day'].value_counts(dropna = False)"
   ]
  },
  {
   "cell_type": "markdown",
   "id": "51fd41b2-15bf-4c25-9f50-a57fd70b2434",
   "metadata": {
    "jp-MarkdownHeadingCollapsed": true,
    "tags": []
   },
   "source": [
    "#### create 'busiest_period_of_the_flag'"
   ]
  },
  {
   "cell_type": "code",
   "execution_count": 25,
   "id": "d0596b1a-b30f-404d-a897-37a366888633",
   "metadata": {},
   "outputs": [
    {
     "data": {
      "text/plain": [
       "10    2761862\n",
       "11    2736242\n",
       "14    2689251\n",
       "15    2662246\n",
       "13    2661057\n",
       "12    2618613\n",
       "16    2535313\n",
       "9     2454273\n",
       "17    2087721\n",
       "8     1718182\n",
       "18    1636566\n",
       "19    1258352\n",
       "20     976182\n",
       "7      891082\n",
       "21     795658\n",
       "22     634247\n",
       "23     402335\n",
       "6      290500\n",
       "0      218786\n",
       "1      115706\n",
       "5       87964\n",
       "2       69377\n",
       "4       53245\n",
       "3       51281\n",
       "Name: order_hour_of_day, dtype: int64"
      ]
     },
     "execution_count": 25,
     "metadata": {},
     "output_type": "execute_result"
    }
   ],
   "source": [
    "# count the hours which day most orders take place\n",
    "df_final_table['order_hour_of_day'].value_counts(dropna = False)"
   ]
  },
  {
   "cell_type": "code",
   "execution_count": 26,
   "id": "9e8a376e-dd80-46f4-9cab-c92e53d52241",
   "metadata": {},
   "outputs": [],
   "source": [
    "# create a new columne for “Most orders,” “Average orders,” and “Fewest orders \n",
    "result_hour = []\n",
    "for value in df_final_table[\"order_hour_of_day\"]:\n",
    "    if value in [10, 11, 14, 15, 13, 12, 16, 9]:\n",
    "        result_hour.append(\"Most orders\")\n",
    "    elif value in [17, 8, 18, 19, 20, 7, 21, 22]:\n",
    "        result_hour.append(\"Average orders\")\n",
    "    else:\n",
    "        result_hour.append(\"Fewest orders\")  "
   ]
  },
  {
   "cell_type": "code",
   "execution_count": 27,
   "id": "9400e4df-d093-4271-931a-945e59da2391",
   "metadata": {},
   "outputs": [],
   "source": [
    "# adding the list result_hour to the dataframe\n",
    "df_final_table['busiest_period_of_day'] = result_hour"
   ]
  },
  {
   "cell_type": "code",
   "execution_count": 28,
   "id": "7c356c70-33b2-446d-9f4f-146b5ca75dca",
   "metadata": {},
   "outputs": [
    {
     "data": {
      "text/plain": [
       "Most orders       21118857\n",
       "Average orders     9997990\n",
       "Fewest orders      1289194\n",
       "Name: busiest_period_of_day, dtype: int64"
      ]
     },
     "execution_count": 28,
     "metadata": {},
     "output_type": "execute_result"
    }
   ],
   "source": [
    "df_final_table['busiest_period_of_day'].value_counts(dropna = False)"
   ]
  },
  {
   "cell_type": "markdown",
   "id": "ea07d115-973e-4cd0-a338-6f0535be47f4",
   "metadata": {
    "jp-MarkdownHeadingCollapsed": true,
    "tags": []
   },
   "source": [
    "#### create 'max_order_flag'"
   ]
  },
  {
   "cell_type": "code",
   "execution_count": 29,
   "id": "808febbe-832a-42b9-b0d0-5cb56300d71d",
   "metadata": {},
   "outputs": [],
   "source": [
    "# using the  transform function to generate the maximum orders for each user\n",
    "df_final_table['max_order'] = df_final_table.groupby(['user_id'])['order_number'].transform(np.max)"
   ]
  },
  {
   "cell_type": "code",
   "execution_count": 30,
   "id": "e098714a-1b56-4b90-9e30-ace9a59d2b77",
   "metadata": {},
   "outputs": [],
   "source": [
    "# defining a function for the customer who ordered the most\n",
    "df_final_table.loc[df_final_table['max_order'] > 40, 'loyalty_flag'] = 'Loyal customer'"
   ]
  },
  {
   "cell_type": "code",
   "execution_count": 31,
   "id": "cb674c5a-df7b-4c0a-bb72-0f8de033ba60",
   "metadata": {},
   "outputs": [],
   "source": [
    "# defining a function for the customer who ordered the moderat\n",
    "df_final_table.loc[(df_final_table ['max_order'] <= 40) & \n",
    "                   (df_final_table ['max_order'] > 10), 'loyalty_flag'] = 'Regular customer'"
   ]
  },
  {
   "cell_type": "code",
   "execution_count": 32,
   "id": "b68bffee-8fcb-44ad-a7bb-307b377eaf80",
   "metadata": {},
   "outputs": [],
   "source": [
    "# defining a function for the customer who ordered the least\n",
    "df_final_table.loc[df_final_table['max_order'] <= 10, 'loyalty_flag'] = 'New customer'"
   ]
  },
  {
   "cell_type": "code",
   "execution_count": 33,
   "id": "ffd7f167-6e92-414b-897d-ab1eaca8b0c3",
   "metadata": {},
   "outputs": [
    {
     "data": {
      "text/plain": [
       "Regular customer    15877395\n",
       "Loyal customer      10284396\n",
       "New customer         6244250\n",
       "Name: loyalty_flag, dtype: int64"
      ]
     },
     "execution_count": 33,
     "metadata": {},
     "output_type": "execute_result"
    }
   ],
   "source": [
    "# print the frequency of your new “loyalty_flag” \n",
    "df_final_table['loyalty_flag'].value_counts(dropna = False)"
   ]
  },
  {
   "cell_type": "markdown",
   "id": "c676bb91-bc37-46cf-a7af-86d4219c02a2",
   "metadata": {
    "jp-MarkdownHeadingCollapsed": true,
    "tags": []
   },
   "source": [
    "#### create 'spending_flag'"
   ]
  },
  {
   "cell_type": "code",
   "execution_count": 34,
   "id": "465bd186-0240-402b-af72-57e8e02402ac",
   "metadata": {},
   "outputs": [],
   "source": [
    "# defining a function for mean of the prices of products purchased by a user is high or low spender\n",
    "df_final_table.loc[df_final_table['mean_order_flag'] > 10, 'spending_flag'] = 'High spender'"
   ]
  },
  {
   "cell_type": "code",
   "execution_count": 35,
   "id": "fec22a21-12e5-4056-b5a5-f0f607302d07",
   "metadata": {},
   "outputs": [],
   "source": [
    "# defining a function for mean of the prices of products purchased by a user is high or low spender\n",
    "df_final_table.loc[df_final_table['mean_order_flag'] <= 10, 'spending_flag'] = 'Low spender'"
   ]
  },
  {
   "cell_type": "code",
   "execution_count": 36,
   "id": "c542d9e2-4ea4-4343-93e5-d04403edb028",
   "metadata": {},
   "outputs": [
    {
     "data": {
      "text/plain": [
       "Low spender     32286726\n",
       "High spender      119315\n",
       "Name: spending_flag, dtype: int64"
      ]
     },
     "execution_count": 36,
     "metadata": {},
     "output_type": "execute_result"
    }
   ],
   "source": [
    "# print the frequency of your new “spending_flag” \n",
    "df_final_table ['spending_flag'].value_counts(dropna = False)"
   ]
  },
  {
   "cell_type": "markdown",
   "id": "0722326b-e10e-4da0-800c-0cc828d332ea",
   "metadata": {
    "jp-MarkdownHeadingCollapsed": true,
    "tags": []
   },
   "source": [
    "#### creating a 'frequency flag'"
   ]
  },
  {
   "cell_type": "code",
   "execution_count": 37,
   "id": "8b2311f0-2439-4039-8898-af51f0ac40b9",
   "metadata": {},
   "outputs": [],
   "source": [
    "# using the transform function to to generate the median for the days_since_prior_order\n",
    "df_final_table['median_prior_orders'] = df_final_table.groupby(['user_id'])['days_since_prior_order'].transform(np.median)"
   ]
  },
  {
   "cell_type": "code",
   "execution_count": 38,
   "id": "ac38b41a-d4c6-458e-828c-2b7e5bafd817",
   "metadata": {},
   "outputs": [],
   "source": [
    "# defining a function for median of “days_since_prior_order” is higher than 20\n",
    "df_final_table.loc[df_final_table['median_prior_orders'] > 20, 'frequency_flag'] = 'Non-frequent customer'"
   ]
  },
  {
   "cell_type": "code",
   "execution_count": 39,
   "id": "65f6249b-5e67-40ac-ac76-eb35d30156d6",
   "metadata": {},
   "outputs": [],
   "source": [
    "# defining a function for median of “days_since_prior_order” is higher than 10 and lower or equal 20\n",
    "df_final_table.loc[(df_final_table['median_prior_orders'] > 10) & (df_final_table['median_prior_orders'] <= 20),'frequency_flag'] = 'Regular customer'"
   ]
  },
  {
   "cell_type": "code",
   "execution_count": 40,
   "id": "3cb1f672-989c-436b-a473-5a781fa698dd",
   "metadata": {},
   "outputs": [],
   "source": [
    "# defining a function for median of “days_since_prior_order” is higher than 20\n",
    "df_final_table.loc[df_final_table['median_prior_orders'] <= 10, 'frequency_flag'] = 'Frequent customer'"
   ]
  },
  {
   "cell_type": "code",
   "execution_count": 41,
   "id": "99a677cf-417d-4320-a955-17960b23bee0",
   "metadata": {},
   "outputs": [
    {
     "data": {
      "text/plain": [
       "Frequent customer        21560324\n",
       "Regular customer          7209005\n",
       "Non-frequent customer     3636707\n",
       "NaN                             5\n",
       "Name: frequency_flag, dtype: int64"
      ]
     },
     "execution_count": 41,
     "metadata": {},
     "output_type": "execute_result"
    }
   ],
   "source": [
    "# print the frequency of your new “frequency_flag” \n",
    "df_final_table ['frequency_flag'].value_counts(dropna = False)"
   ]
  },
  {
   "cell_type": "code",
   "execution_count": 42,
   "id": "dbe3387c-8f0e-4454-aa58-9c4f30f08941",
   "metadata": {},
   "outputs": [],
   "source": [
    "# finding the 5 NaN\n",
    "df_NaN_frequency_flag =df_final_table[df_final_table['frequency_flag'].isnull()==True]"
   ]
  },
  {
   "cell_type": "code",
   "execution_count": 43,
   "id": "d986da99-736f-4619-b84f-d0576ae0c71d",
   "metadata": {},
   "outputs": [
    {
     "data": {
      "text/html": [
       "<div>\n",
       "<style scoped>\n",
       "    .dataframe tbody tr th:only-of-type {\n",
       "        vertical-align: middle;\n",
       "    }\n",
       "\n",
       "    .dataframe tbody tr th {\n",
       "        vertical-align: top;\n",
       "    }\n",
       "\n",
       "    .dataframe thead th {\n",
       "        text-align: right;\n",
       "    }\n",
       "</style>\n",
       "<table border=\"1\" class=\"dataframe\">\n",
       "  <thead>\n",
       "    <tr style=\"text-align: right;\">\n",
       "      <th></th>\n",
       "      <th>Unnamed: 0_x</th>\n",
       "      <th>order_id</th>\n",
       "      <th>user_id</th>\n",
       "      <th>eval_set</th>\n",
       "      <th>order_number</th>\n",
       "      <th>order_day_of_week</th>\n",
       "      <th>order_hour_of_day</th>\n",
       "      <th>days_since_prior_order</th>\n",
       "      <th>first_name</th>\n",
       "      <th>surname</th>\n",
       "      <th>...</th>\n",
       "      <th>max_order_flag</th>\n",
       "      <th>mean_order_flag</th>\n",
       "      <th>price_range_flag</th>\n",
       "      <th>busiest_day</th>\n",
       "      <th>busiest_period_of_day</th>\n",
       "      <th>max_order</th>\n",
       "      <th>loyalty_flag</th>\n",
       "      <th>spending_flag</th>\n",
       "      <th>median_prior_orders</th>\n",
       "      <th>frequency_flag</th>\n",
       "    </tr>\n",
       "  </thead>\n",
       "  <tbody>\n",
       "    <tr>\n",
       "      <th>13645692</th>\n",
       "      <td>2655584</td>\n",
       "      <td>895835</td>\n",
       "      <td>159838</td>\n",
       "      <td>prior</td>\n",
       "      <td>1</td>\n",
       "      <td>0</td>\n",
       "      <td>17</td>\n",
       "      <td>NaN</td>\n",
       "      <td>Jason</td>\n",
       "      <td>Nava</td>\n",
       "      <td>...</td>\n",
       "      <td>1</td>\n",
       "      <td>7.42</td>\n",
       "      <td>Mid-range product</td>\n",
       "      <td>Busiest day</td>\n",
       "      <td>Average orders</td>\n",
       "      <td>1</td>\n",
       "      <td>New customer</td>\n",
       "      <td>Low spender</td>\n",
       "      <td>NaN</td>\n",
       "      <td>NaN</td>\n",
       "    </tr>\n",
       "    <tr>\n",
       "      <th>17251990</th>\n",
       "      <td>2655584</td>\n",
       "      <td>895835</td>\n",
       "      <td>159838</td>\n",
       "      <td>prior</td>\n",
       "      <td>1</td>\n",
       "      <td>0</td>\n",
       "      <td>17</td>\n",
       "      <td>NaN</td>\n",
       "      <td>Jason</td>\n",
       "      <td>Nava</td>\n",
       "      <td>...</td>\n",
       "      <td>1</td>\n",
       "      <td>7.42</td>\n",
       "      <td>Mid-range product</td>\n",
       "      <td>Busiest day</td>\n",
       "      <td>Average orders</td>\n",
       "      <td>1</td>\n",
       "      <td>New customer</td>\n",
       "      <td>Low spender</td>\n",
       "      <td>NaN</td>\n",
       "      <td>NaN</td>\n",
       "    </tr>\n",
       "    <tr>\n",
       "      <th>17622767</th>\n",
       "      <td>2655584</td>\n",
       "      <td>895835</td>\n",
       "      <td>159838</td>\n",
       "      <td>prior</td>\n",
       "      <td>1</td>\n",
       "      <td>0</td>\n",
       "      <td>17</td>\n",
       "      <td>NaN</td>\n",
       "      <td>Jason</td>\n",
       "      <td>Nava</td>\n",
       "      <td>...</td>\n",
       "      <td>1</td>\n",
       "      <td>7.42</td>\n",
       "      <td>Low-range product</td>\n",
       "      <td>Busiest day</td>\n",
       "      <td>Average orders</td>\n",
       "      <td>1</td>\n",
       "      <td>New customer</td>\n",
       "      <td>Low spender</td>\n",
       "      <td>NaN</td>\n",
       "      <td>NaN</td>\n",
       "    </tr>\n",
       "    <tr>\n",
       "      <th>24138593</th>\n",
       "      <td>2655584</td>\n",
       "      <td>895835</td>\n",
       "      <td>159838</td>\n",
       "      <td>prior</td>\n",
       "      <td>1</td>\n",
       "      <td>0</td>\n",
       "      <td>17</td>\n",
       "      <td>NaN</td>\n",
       "      <td>Jason</td>\n",
       "      <td>Nava</td>\n",
       "      <td>...</td>\n",
       "      <td>1</td>\n",
       "      <td>7.42</td>\n",
       "      <td>Mid-range product</td>\n",
       "      <td>Busiest day</td>\n",
       "      <td>Average orders</td>\n",
       "      <td>1</td>\n",
       "      <td>New customer</td>\n",
       "      <td>Low spender</td>\n",
       "      <td>NaN</td>\n",
       "      <td>NaN</td>\n",
       "    </tr>\n",
       "    <tr>\n",
       "      <th>25881080</th>\n",
       "      <td>2655584</td>\n",
       "      <td>895835</td>\n",
       "      <td>159838</td>\n",
       "      <td>prior</td>\n",
       "      <td>1</td>\n",
       "      <td>0</td>\n",
       "      <td>17</td>\n",
       "      <td>NaN</td>\n",
       "      <td>Jason</td>\n",
       "      <td>Nava</td>\n",
       "      <td>...</td>\n",
       "      <td>1</td>\n",
       "      <td>7.42</td>\n",
       "      <td>Low-range product</td>\n",
       "      <td>Busiest day</td>\n",
       "      <td>Average orders</td>\n",
       "      <td>1</td>\n",
       "      <td>New customer</td>\n",
       "      <td>Low spender</td>\n",
       "      <td>NaN</td>\n",
       "      <td>NaN</td>\n",
       "    </tr>\n",
       "  </tbody>\n",
       "</table>\n",
       "<p>5 rows × 34 columns</p>\n",
       "</div>"
      ],
      "text/plain": [
       "          Unnamed: 0_x  order_id  user_id eval_set  order_number  \\\n",
       "13645692       2655584    895835   159838    prior             1   \n",
       "17251990       2655584    895835   159838    prior             1   \n",
       "17622767       2655584    895835   159838    prior             1   \n",
       "24138593       2655584    895835   159838    prior             1   \n",
       "25881080       2655584    895835   159838    prior             1   \n",
       "\n",
       "          order_day_of_week  order_hour_of_day  days_since_prior_order  \\\n",
       "13645692                  0                 17                     NaN   \n",
       "17251990                  0                 17                     NaN   \n",
       "17622767                  0                 17                     NaN   \n",
       "24138593                  0                 17                     NaN   \n",
       "25881080                  0                 17                     NaN   \n",
       "\n",
       "         first_name surname  ... max_order_flag mean_order_flag  \\\n",
       "13645692      Jason    Nava  ...              1            7.42   \n",
       "17251990      Jason    Nava  ...              1            7.42   \n",
       "17622767      Jason    Nava  ...              1            7.42   \n",
       "24138593      Jason    Nava  ...              1            7.42   \n",
       "25881080      Jason    Nava  ...              1            7.42   \n",
       "\n",
       "           price_range_flag  busiest_day  busiest_period_of_day max_order  \\\n",
       "13645692  Mid-range product  Busiest day         Average orders         1   \n",
       "17251990  Mid-range product  Busiest day         Average orders         1   \n",
       "17622767  Low-range product  Busiest day         Average orders         1   \n",
       "24138593  Mid-range product  Busiest day         Average orders         1   \n",
       "25881080  Low-range product  Busiest day         Average orders         1   \n",
       "\n",
       "          loyalty_flag  spending_flag  median_prior_orders  frequency_flag  \n",
       "13645692  New customer    Low spender                  NaN             NaN  \n",
       "17251990  New customer    Low spender                  NaN             NaN  \n",
       "17622767  New customer    Low spender                  NaN             NaN  \n",
       "24138593  New customer    Low spender                  NaN             NaN  \n",
       "25881080  New customer    Low spender                  NaN             NaN  \n",
       "\n",
       "[5 rows x 34 columns]"
      ]
     },
     "execution_count": 43,
     "metadata": {},
     "output_type": "execute_result"
    }
   ],
   "source": [
    "df_NaN_frequency_flag"
   ]
  },
  {
   "cell_type": "code",
   "execution_count": 44,
   "id": "dc0ef8cb-999d-4a78-b42a-4431a88c9d95",
   "metadata": {
    "tags": []
   },
   "outputs": [],
   "source": [
    "# order the colmns in a new order\n",
    "desired_order = ['order_id','product_id','product_name','prices','department_id','order_number','order_day_of_week','order_hour_of_day', 'days_since_prior_order',\n",
    "                'add_to_cart_order', 'user_id', 'date_joined','first_name','surname','gender','age', 'fam_status','n_dependants','income','state',\n",
    "                 'busiest_period_of_day','busiest_day', 'price_range_flag' , 'reordered', 'max_order_flag', 'loyalty_flag', 'mean_order_flag',\n",
    "                'spending_flag', 'median_prior_orders', 'frequency_flag','aisle_id', 'eval_set']"
   ]
  },
  {
   "cell_type": "code",
   "execution_count": 45,
   "id": "7d11c76d-a23e-4bc5-ba0a-5962b234eab4",
   "metadata": {},
   "outputs": [],
   "source": [
    "# order the colmns in a new order\n",
    "df_final_table = df_final_table[desired_order]"
   ]
  },
  {
   "cell_type": "code",
   "execution_count": 46,
   "id": "c8496edf-1cf6-405a-8ca9-55bcca7337c1",
   "metadata": {},
   "outputs": [
    {
     "data": {
      "text/plain": [
       "order_id                        0\n",
       "product_id                      0\n",
       "product_name                    0\n",
       "prices                          0\n",
       "department_id                   0\n",
       "order_number                    0\n",
       "order_day_of_week               0\n",
       "order_hour_of_day               0\n",
       "days_since_prior_order    2076201\n",
       "add_to_cart_order               0\n",
       "user_id                         0\n",
       "date_joined                     0\n",
       "first_name                1775189\n",
       "surname                         0\n",
       "gender                          0\n",
       "age                             0\n",
       "fam_status                      0\n",
       "n_dependants                    0\n",
       "income                          0\n",
       "state                           0\n",
       "busiest_period_of_day           0\n",
       "busiest_day                     0\n",
       "price_range_flag                0\n",
       "reordered                       0\n",
       "max_order_flag                  0\n",
       "loyalty_flag                    0\n",
       "mean_order_flag                 0\n",
       "spending_flag                   0\n",
       "median_prior_orders             5\n",
       "frequency_flag                  5\n",
       "aisle_id                        0\n",
       "eval_set                        0\n",
       "dtype: int64"
      ]
     },
     "execution_count": 46,
     "metadata": {},
     "output_type": "execute_result"
    }
   ],
   "source": [
    "df_final_table.isnull().sum()"
   ]
  },
  {
   "cell_type": "markdown",
   "id": "8007af73-8467-4c76-9b3d-51da596a6013",
   "metadata": {
    "jp-MarkdownHeadingCollapsed": true,
    "tags": []
   },
   "source": [
    "#### crossstab new data frame"
   ]
  },
  {
   "cell_type": "code",
   "execution_count": 47,
   "id": "c0fff674-89f0-42b9-8073-ef4ae803a2f0",
   "metadata": {},
   "outputs": [],
   "source": [
    "# a crosstab between the “days_since_prior_order” column and the “order_number” column \n",
    "# The table this creates will be stored in the object crosstab.\n",
    "crosstab = pd.crosstab(df_final_table['days_since_prior_order'], df_final_table ['order_number'], dropna = False)"
   ]
  },
  {
   "cell_type": "code",
   "execution_count": 48,
   "id": "3d1a3dd3-c24b-41b6-9e0f-4e25bb5de50c",
   "metadata": {
    "tags": []
   },
   "outputs": [],
   "source": [
    "# run this and the data is stored in computer memory to be copied into a another programm\n",
    "crosstab.to_clipboard()"
   ]
  },
  {
   "cell_type": "markdown",
   "id": "3ffd8f81-bbc6-4e8d-a100-3626fb1b111b",
   "metadata": {
    "jp-MarkdownHeadingCollapsed": true,
    "tags": []
   },
   "source": [
    "#### df check "
   ]
  },
  {
   "cell_type": "code",
   "execution_count": 49,
   "id": "99a4352b-98b9-4a37-85f6-b4a45f3c6395",
   "metadata": {},
   "outputs": [
    {
     "data": {
      "text/html": [
       "<div>\n",
       "<style scoped>\n",
       "    .dataframe tbody tr th:only-of-type {\n",
       "        vertical-align: middle;\n",
       "    }\n",
       "\n",
       "    .dataframe tbody tr th {\n",
       "        vertical-align: top;\n",
       "    }\n",
       "\n",
       "    .dataframe thead th {\n",
       "        text-align: right;\n",
       "    }\n",
       "</style>\n",
       "<table border=\"1\" class=\"dataframe\">\n",
       "  <thead>\n",
       "    <tr style=\"text-align: right;\">\n",
       "      <th></th>\n",
       "      <th>order_id</th>\n",
       "      <th>product_id</th>\n",
       "      <th>product_name</th>\n",
       "      <th>prices</th>\n",
       "      <th>department_id</th>\n",
       "      <th>order_number</th>\n",
       "      <th>order_day_of_week</th>\n",
       "      <th>order_hour_of_day</th>\n",
       "      <th>days_since_prior_order</th>\n",
       "      <th>add_to_cart_order</th>\n",
       "      <th>...</th>\n",
       "      <th>price_range_flag</th>\n",
       "      <th>reordered</th>\n",
       "      <th>max_order_flag</th>\n",
       "      <th>loyalty_flag</th>\n",
       "      <th>mean_order_flag</th>\n",
       "      <th>spending_flag</th>\n",
       "      <th>median_prior_orders</th>\n",
       "      <th>frequency_flag</th>\n",
       "      <th>aisle_id</th>\n",
       "      <th>eval_set</th>\n",
       "    </tr>\n",
       "  </thead>\n",
       "  <tbody>\n",
       "    <tr>\n",
       "      <th>0</th>\n",
       "      <td>2539329</td>\n",
       "      <td>196</td>\n",
       "      <td>Soda</td>\n",
       "      <td>9.0</td>\n",
       "      <td>7</td>\n",
       "      <td>1</td>\n",
       "      <td>2</td>\n",
       "      <td>8</td>\n",
       "      <td>NaN</td>\n",
       "      <td>1</td>\n",
       "      <td>...</td>\n",
       "      <td>Mid-range product</td>\n",
       "      <td>0</td>\n",
       "      <td>10</td>\n",
       "      <td>New customer</td>\n",
       "      <td>6.367797</td>\n",
       "      <td>Low spender</td>\n",
       "      <td>20.5</td>\n",
       "      <td>Non-frequent customer</td>\n",
       "      <td>77</td>\n",
       "      <td>prior</td>\n",
       "    </tr>\n",
       "    <tr>\n",
       "      <th>1</th>\n",
       "      <td>2398795</td>\n",
       "      <td>196</td>\n",
       "      <td>Soda</td>\n",
       "      <td>9.0</td>\n",
       "      <td>7</td>\n",
       "      <td>2</td>\n",
       "      <td>3</td>\n",
       "      <td>7</td>\n",
       "      <td>15.0</td>\n",
       "      <td>1</td>\n",
       "      <td>...</td>\n",
       "      <td>Mid-range product</td>\n",
       "      <td>1</td>\n",
       "      <td>10</td>\n",
       "      <td>New customer</td>\n",
       "      <td>6.367797</td>\n",
       "      <td>Low spender</td>\n",
       "      <td>20.5</td>\n",
       "      <td>Non-frequent customer</td>\n",
       "      <td>77</td>\n",
       "      <td>prior</td>\n",
       "    </tr>\n",
       "    <tr>\n",
       "      <th>2</th>\n",
       "      <td>473747</td>\n",
       "      <td>196</td>\n",
       "      <td>Soda</td>\n",
       "      <td>9.0</td>\n",
       "      <td>7</td>\n",
       "      <td>3</td>\n",
       "      <td>3</td>\n",
       "      <td>12</td>\n",
       "      <td>21.0</td>\n",
       "      <td>1</td>\n",
       "      <td>...</td>\n",
       "      <td>Mid-range product</td>\n",
       "      <td>1</td>\n",
       "      <td>10</td>\n",
       "      <td>New customer</td>\n",
       "      <td>6.367797</td>\n",
       "      <td>Low spender</td>\n",
       "      <td>20.5</td>\n",
       "      <td>Non-frequent customer</td>\n",
       "      <td>77</td>\n",
       "      <td>prior</td>\n",
       "    </tr>\n",
       "    <tr>\n",
       "      <th>3</th>\n",
       "      <td>2254736</td>\n",
       "      <td>196</td>\n",
       "      <td>Soda</td>\n",
       "      <td>9.0</td>\n",
       "      <td>7</td>\n",
       "      <td>4</td>\n",
       "      <td>4</td>\n",
       "      <td>7</td>\n",
       "      <td>29.0</td>\n",
       "      <td>1</td>\n",
       "      <td>...</td>\n",
       "      <td>Mid-range product</td>\n",
       "      <td>1</td>\n",
       "      <td>10</td>\n",
       "      <td>New customer</td>\n",
       "      <td>6.367797</td>\n",
       "      <td>Low spender</td>\n",
       "      <td>20.5</td>\n",
       "      <td>Non-frequent customer</td>\n",
       "      <td>77</td>\n",
       "      <td>prior</td>\n",
       "    </tr>\n",
       "    <tr>\n",
       "      <th>4</th>\n",
       "      <td>431534</td>\n",
       "      <td>196</td>\n",
       "      <td>Soda</td>\n",
       "      <td>9.0</td>\n",
       "      <td>7</td>\n",
       "      <td>5</td>\n",
       "      <td>4</td>\n",
       "      <td>15</td>\n",
       "      <td>28.0</td>\n",
       "      <td>1</td>\n",
       "      <td>...</td>\n",
       "      <td>Mid-range product</td>\n",
       "      <td>1</td>\n",
       "      <td>10</td>\n",
       "      <td>New customer</td>\n",
       "      <td>6.367797</td>\n",
       "      <td>Low spender</td>\n",
       "      <td>20.5</td>\n",
       "      <td>Non-frequent customer</td>\n",
       "      <td>77</td>\n",
       "      <td>prior</td>\n",
       "    </tr>\n",
       "  </tbody>\n",
       "</table>\n",
       "<p>5 rows × 32 columns</p>\n",
       "</div>"
      ],
      "text/plain": [
       "   order_id  product_id product_name  prices  department_id  order_number  \\\n",
       "0   2539329         196         Soda     9.0              7             1   \n",
       "1   2398795         196         Soda     9.0              7             2   \n",
       "2    473747         196         Soda     9.0              7             3   \n",
       "3   2254736         196         Soda     9.0              7             4   \n",
       "4    431534         196         Soda     9.0              7             5   \n",
       "\n",
       "   order_day_of_week  order_hour_of_day  days_since_prior_order  \\\n",
       "0                  2                  8                     NaN   \n",
       "1                  3                  7                    15.0   \n",
       "2                  3                 12                    21.0   \n",
       "3                  4                  7                    29.0   \n",
       "4                  4                 15                    28.0   \n",
       "\n",
       "   add_to_cart_order  ...   price_range_flag reordered max_order_flag  \\\n",
       "0                  1  ...  Mid-range product         0             10   \n",
       "1                  1  ...  Mid-range product         1             10   \n",
       "2                  1  ...  Mid-range product         1             10   \n",
       "3                  1  ...  Mid-range product         1             10   \n",
       "4                  1  ...  Mid-range product         1             10   \n",
       "\n",
       "   loyalty_flag mean_order_flag  spending_flag median_prior_orders  \\\n",
       "0  New customer        6.367797    Low spender                20.5   \n",
       "1  New customer        6.367797    Low spender                20.5   \n",
       "2  New customer        6.367797    Low spender                20.5   \n",
       "3  New customer        6.367797    Low spender                20.5   \n",
       "4  New customer        6.367797    Low spender                20.5   \n",
       "\n",
       "          frequency_flag  aisle_id eval_set  \n",
       "0  Non-frequent customer        77    prior  \n",
       "1  Non-frequent customer        77    prior  \n",
       "2  Non-frequent customer        77    prior  \n",
       "3  Non-frequent customer        77    prior  \n",
       "4  Non-frequent customer        77    prior  \n",
       "\n",
       "[5 rows x 32 columns]"
      ]
     },
     "execution_count": 49,
     "metadata": {},
     "output_type": "execute_result"
    }
   ],
   "source": [
    "df_final_table.head()"
   ]
  },
  {
   "cell_type": "code",
   "execution_count": 50,
   "id": "a59ba2b4-3b9c-41e9-a2fe-276f7da6228c",
   "metadata": {},
   "outputs": [
    {
     "data": {
      "text/html": [
       "<div>\n",
       "<style scoped>\n",
       "    .dataframe tbody tr th:only-of-type {\n",
       "        vertical-align: middle;\n",
       "    }\n",
       "\n",
       "    .dataframe tbody tr th {\n",
       "        vertical-align: top;\n",
       "    }\n",
       "\n",
       "    .dataframe thead th {\n",
       "        text-align: right;\n",
       "    }\n",
       "</style>\n",
       "<table border=\"1\" class=\"dataframe\">\n",
       "  <thead>\n",
       "    <tr style=\"text-align: right;\">\n",
       "      <th></th>\n",
       "      <th>order_id</th>\n",
       "      <th>product_id</th>\n",
       "      <th>prices</th>\n",
       "      <th>department_id</th>\n",
       "      <th>order_number</th>\n",
       "      <th>order_day_of_week</th>\n",
       "      <th>order_hour_of_day</th>\n",
       "      <th>days_since_prior_order</th>\n",
       "      <th>add_to_cart_order</th>\n",
       "      <th>user_id</th>\n",
       "      <th>age</th>\n",
       "      <th>n_dependants</th>\n",
       "      <th>income</th>\n",
       "      <th>reordered</th>\n",
       "      <th>max_order_flag</th>\n",
       "      <th>mean_order_flag</th>\n",
       "      <th>median_prior_orders</th>\n",
       "      <th>aisle_id</th>\n",
       "    </tr>\n",
       "  </thead>\n",
       "  <tbody>\n",
       "    <tr>\n",
       "      <th>count</th>\n",
       "      <td>3.240604e+07</td>\n",
       "      <td>3.240604e+07</td>\n",
       "      <td>3.240604e+07</td>\n",
       "      <td>3.240604e+07</td>\n",
       "      <td>3.240604e+07</td>\n",
       "      <td>3.240604e+07</td>\n",
       "      <td>3.240604e+07</td>\n",
       "      <td>3.032984e+07</td>\n",
       "      <td>3.240604e+07</td>\n",
       "      <td>3.240604e+07</td>\n",
       "      <td>3.240604e+07</td>\n",
       "      <td>3.240604e+07</td>\n",
       "      <td>3.240604e+07</td>\n",
       "      <td>3.240604e+07</td>\n",
       "      <td>3.240604e+07</td>\n",
       "      <td>3.240604e+07</td>\n",
       "      <td>3.240604e+07</td>\n",
       "      <td>3.240604e+07</td>\n",
       "    </tr>\n",
       "    <tr>\n",
       "      <th>mean</th>\n",
       "      <td>1.710745e+06</td>\n",
       "      <td>2.559895e+04</td>\n",
       "      <td>7.790148e+00</td>\n",
       "      <td>9.919923e+00</td>\n",
       "      <td>1.714223e+01</td>\n",
       "      <td>2.738862e+00</td>\n",
       "      <td>1.342515e+01</td>\n",
       "      <td>1.110410e+01</td>\n",
       "      <td>8.352616e+00</td>\n",
       "      <td>1.029371e+05</td>\n",
       "      <td>4.946525e+01</td>\n",
       "      <td>1.501891e+00</td>\n",
       "      <td>9.943761e+04</td>\n",
       "      <td>5.895845e-01</td>\n",
       "      <td>3.305203e+01</td>\n",
       "      <td>7.790148e+00</td>\n",
       "      <td>1.039789e+01</td>\n",
       "      <td>7.119773e+01</td>\n",
       "    </tr>\n",
       "    <tr>\n",
       "      <th>std</th>\n",
       "      <td>9.872986e+05</td>\n",
       "      <td>1.408389e+04</td>\n",
       "      <td>4.242055e+00</td>\n",
       "      <td>6.281418e+00</td>\n",
       "      <td>1.753527e+01</td>\n",
       "      <td>2.090074e+00</td>\n",
       "      <td>4.246382e+00</td>\n",
       "      <td>8.779062e+00</td>\n",
       "      <td>7.127128e+00</td>\n",
       "      <td>5.946610e+04</td>\n",
       "      <td>1.848557e+01</td>\n",
       "      <td>1.118866e+00</td>\n",
       "      <td>4.305710e+04</td>\n",
       "      <td>4.919092e-01</td>\n",
       "      <td>2.515518e+01</td>\n",
       "      <td>7.347909e-01</td>\n",
       "      <td>7.131767e+00</td>\n",
       "      <td>3.821182e+01</td>\n",
       "    </tr>\n",
       "    <tr>\n",
       "      <th>min</th>\n",
       "      <td>2.000000e+00</td>\n",
       "      <td>1.000000e+00</td>\n",
       "      <td>1.000000e+00</td>\n",
       "      <td>1.000000e+00</td>\n",
       "      <td>1.000000e+00</td>\n",
       "      <td>0.000000e+00</td>\n",
       "      <td>0.000000e+00</td>\n",
       "      <td>0.000000e+00</td>\n",
       "      <td>1.000000e+00</td>\n",
       "      <td>1.000000e+00</td>\n",
       "      <td>1.800000e+01</td>\n",
       "      <td>0.000000e+00</td>\n",
       "      <td>2.590300e+04</td>\n",
       "      <td>0.000000e+00</td>\n",
       "      <td>1.000000e+00</td>\n",
       "      <td>1.000000e+00</td>\n",
       "      <td>0.000000e+00</td>\n",
       "      <td>1.000000e+00</td>\n",
       "    </tr>\n",
       "    <tr>\n",
       "      <th>25%</th>\n",
       "      <td>8.559480e+05</td>\n",
       "      <td>1.354400e+04</td>\n",
       "      <td>4.200000e+00</td>\n",
       "      <td>4.000000e+00</td>\n",
       "      <td>5.000000e+00</td>\n",
       "      <td>1.000000e+00</td>\n",
       "      <td>1.000000e+01</td>\n",
       "      <td>5.000000e+00</td>\n",
       "      <td>3.000000e+00</td>\n",
       "      <td>5.142200e+04</td>\n",
       "      <td>3.300000e+01</td>\n",
       "      <td>1.000000e+00</td>\n",
       "      <td>6.700200e+04</td>\n",
       "      <td>0.000000e+00</td>\n",
       "      <td>1.300000e+01</td>\n",
       "      <td>7.377725e+00</td>\n",
       "      <td>6.000000e+00</td>\n",
       "      <td>3.100000e+01</td>\n",
       "    </tr>\n",
       "    <tr>\n",
       "      <th>50%</th>\n",
       "      <td>1.711050e+06</td>\n",
       "      <td>2.530500e+04</td>\n",
       "      <td>7.400000e+00</td>\n",
       "      <td>9.000000e+00</td>\n",
       "      <td>1.100000e+01</td>\n",
       "      <td>3.000000e+00</td>\n",
       "      <td>1.300000e+01</td>\n",
       "      <td>8.000000e+00</td>\n",
       "      <td>6.000000e+00</td>\n",
       "      <td>1.026150e+05</td>\n",
       "      <td>4.900000e+01</td>\n",
       "      <td>2.000000e+00</td>\n",
       "      <td>9.661700e+04</td>\n",
       "      <td>1.000000e+00</td>\n",
       "      <td>2.600000e+01</td>\n",
       "      <td>7.811173e+00</td>\n",
       "      <td>8.000000e+00</td>\n",
       "      <td>8.300000e+01</td>\n",
       "    </tr>\n",
       "    <tr>\n",
       "      <th>75%</th>\n",
       "      <td>2.565497e+06</td>\n",
       "      <td>3.794700e+04</td>\n",
       "      <td>1.130000e+01</td>\n",
       "      <td>1.600000e+01</td>\n",
       "      <td>2.400000e+01</td>\n",
       "      <td>5.000000e+00</td>\n",
       "      <td>1.600000e+01</td>\n",
       "      <td>1.500000e+01</td>\n",
       "      <td>1.100000e+01</td>\n",
       "      <td>1.543880e+05</td>\n",
       "      <td>6.500000e+01</td>\n",
       "      <td>3.000000e+00</td>\n",
       "      <td>1.279120e+05</td>\n",
       "      <td>1.000000e+00</td>\n",
       "      <td>4.700000e+01</td>\n",
       "      <td>8.228626e+00</td>\n",
       "      <td>1.300000e+01</td>\n",
       "      <td>1.070000e+02</td>\n",
       "    </tr>\n",
       "    <tr>\n",
       "      <th>max</th>\n",
       "      <td>3.421083e+06</td>\n",
       "      <td>4.968800e+04</td>\n",
       "      <td>2.500000e+01</td>\n",
       "      <td>2.100000e+01</td>\n",
       "      <td>9.900000e+01</td>\n",
       "      <td>6.000000e+00</td>\n",
       "      <td>2.300000e+01</td>\n",
       "      <td>3.000000e+01</td>\n",
       "      <td>1.450000e+02</td>\n",
       "      <td>2.062090e+05</td>\n",
       "      <td>8.100000e+01</td>\n",
       "      <td>3.000000e+00</td>\n",
       "      <td>5.939010e+05</td>\n",
       "      <td>1.000000e+00</td>\n",
       "      <td>9.900000e+01</td>\n",
       "      <td>2.320000e+01</td>\n",
       "      <td>3.000000e+01</td>\n",
       "      <td>1.340000e+02</td>\n",
       "    </tr>\n",
       "  </tbody>\n",
       "</table>\n",
       "</div>"
      ],
      "text/plain": [
       "           order_id    product_id        prices  department_id  order_number  \\\n",
       "count  3.240604e+07  3.240604e+07  3.240604e+07   3.240604e+07  3.240604e+07   \n",
       "mean   1.710745e+06  2.559895e+04  7.790148e+00   9.919923e+00  1.714223e+01   \n",
       "std    9.872986e+05  1.408389e+04  4.242055e+00   6.281418e+00  1.753527e+01   \n",
       "min    2.000000e+00  1.000000e+00  1.000000e+00   1.000000e+00  1.000000e+00   \n",
       "25%    8.559480e+05  1.354400e+04  4.200000e+00   4.000000e+00  5.000000e+00   \n",
       "50%    1.711050e+06  2.530500e+04  7.400000e+00   9.000000e+00  1.100000e+01   \n",
       "75%    2.565497e+06  3.794700e+04  1.130000e+01   1.600000e+01  2.400000e+01   \n",
       "max    3.421083e+06  4.968800e+04  2.500000e+01   2.100000e+01  9.900000e+01   \n",
       "\n",
       "       order_day_of_week  order_hour_of_day  days_since_prior_order  \\\n",
       "count       3.240604e+07       3.240604e+07            3.032984e+07   \n",
       "mean        2.738862e+00       1.342515e+01            1.110410e+01   \n",
       "std         2.090074e+00       4.246382e+00            8.779062e+00   \n",
       "min         0.000000e+00       0.000000e+00            0.000000e+00   \n",
       "25%         1.000000e+00       1.000000e+01            5.000000e+00   \n",
       "50%         3.000000e+00       1.300000e+01            8.000000e+00   \n",
       "75%         5.000000e+00       1.600000e+01            1.500000e+01   \n",
       "max         6.000000e+00       2.300000e+01            3.000000e+01   \n",
       "\n",
       "       add_to_cart_order       user_id           age  n_dependants  \\\n",
       "count       3.240604e+07  3.240604e+07  3.240604e+07  3.240604e+07   \n",
       "mean        8.352616e+00  1.029371e+05  4.946525e+01  1.501891e+00   \n",
       "std         7.127128e+00  5.946610e+04  1.848557e+01  1.118866e+00   \n",
       "min         1.000000e+00  1.000000e+00  1.800000e+01  0.000000e+00   \n",
       "25%         3.000000e+00  5.142200e+04  3.300000e+01  1.000000e+00   \n",
       "50%         6.000000e+00  1.026150e+05  4.900000e+01  2.000000e+00   \n",
       "75%         1.100000e+01  1.543880e+05  6.500000e+01  3.000000e+00   \n",
       "max         1.450000e+02  2.062090e+05  8.100000e+01  3.000000e+00   \n",
       "\n",
       "             income     reordered  max_order_flag  mean_order_flag  \\\n",
       "count  3.240604e+07  3.240604e+07    3.240604e+07     3.240604e+07   \n",
       "mean   9.943761e+04  5.895845e-01    3.305203e+01     7.790148e+00   \n",
       "std    4.305710e+04  4.919092e-01    2.515518e+01     7.347909e-01   \n",
       "min    2.590300e+04  0.000000e+00    1.000000e+00     1.000000e+00   \n",
       "25%    6.700200e+04  0.000000e+00    1.300000e+01     7.377725e+00   \n",
       "50%    9.661700e+04  1.000000e+00    2.600000e+01     7.811173e+00   \n",
       "75%    1.279120e+05  1.000000e+00    4.700000e+01     8.228626e+00   \n",
       "max    5.939010e+05  1.000000e+00    9.900000e+01     2.320000e+01   \n",
       "\n",
       "       median_prior_orders      aisle_id  \n",
       "count         3.240604e+07  3.240604e+07  \n",
       "mean          1.039789e+01  7.119773e+01  \n",
       "std           7.131767e+00  3.821182e+01  \n",
       "min           0.000000e+00  1.000000e+00  \n",
       "25%           6.000000e+00  3.100000e+01  \n",
       "50%           8.000000e+00  8.300000e+01  \n",
       "75%           1.300000e+01  1.070000e+02  \n",
       "max           3.000000e+01  1.340000e+02  "
      ]
     },
     "execution_count": 50,
     "metadata": {},
     "output_type": "execute_result"
    }
   ],
   "source": [
    "df_final_table.describe()"
   ]
  },
  {
   "cell_type": "code",
   "execution_count": 51,
   "id": "036fcd66-02c8-4fbe-85e0-91e78b1a263c",
   "metadata": {},
   "outputs": [
    {
     "name": "stdout",
     "output_type": "stream",
     "text": [
      "<class 'pandas.core.frame.DataFrame'>\n",
      "Int64Index: 32406041 entries, 0 to 32406040\n",
      "Data columns (total 32 columns):\n",
      " #   Column                  Dtype   \n",
      "---  ------                  -----   \n",
      " 0   order_id                int64   \n",
      " 1   product_id              int64   \n",
      " 2   product_name            object  \n",
      " 3   prices                  float64 \n",
      " 4   department_id           int64   \n",
      " 5   order_number            int64   \n",
      " 6   order_day_of_week       int64   \n",
      " 7   order_hour_of_day       int64   \n",
      " 8   days_since_prior_order  float64 \n",
      " 9   add_to_cart_order       int64   \n",
      " 10  user_id                 int64   \n",
      " 11  date_joined             object  \n",
      " 12  first_name              object  \n",
      " 13  surname                 object  \n",
      " 14  gender                  category\n",
      " 15  age                     int64   \n",
      " 16  fam_status              object  \n",
      " 17  n_dependants            int64   \n",
      " 18  income                  int64   \n",
      " 19  state                   object  \n",
      " 20  busiest_period_of_day   object  \n",
      " 21  busiest_day             object  \n",
      " 22  price_range_flag        object  \n",
      " 23  reordered               int64   \n",
      " 24  max_order_flag          int64   \n",
      " 25  loyalty_flag            object  \n",
      " 26  mean_order_flag         float64 \n",
      " 27  spending_flag           object  \n",
      " 28  median_prior_orders     float64 \n",
      " 29  frequency_flag          object  \n",
      " 30  aisle_id                int64   \n",
      " 31  eval_set                object  \n",
      "dtypes: category(1), float64(4), int64(14), object(13)\n",
      "memory usage: 7.8+ GB\n"
     ]
    }
   ],
   "source": [
    "df_final_table.info()"
   ]
  },
  {
   "cell_type": "code",
   "execution_count": 52,
   "id": "cd0dc268-3dc9-4d87-9a71-a18f2a5d4975",
   "metadata": {},
   "outputs": [
    {
     "data": {
      "text/plain": [
       "order_id                        0\n",
       "product_id                      0\n",
       "product_name                    0\n",
       "prices                          0\n",
       "department_id                   0\n",
       "order_number                    0\n",
       "order_day_of_week               0\n",
       "order_hour_of_day               0\n",
       "days_since_prior_order    2076201\n",
       "add_to_cart_order               0\n",
       "user_id                         0\n",
       "date_joined                     0\n",
       "first_name                1775189\n",
       "surname                         0\n",
       "gender                          0\n",
       "age                             0\n",
       "fam_status                      0\n",
       "n_dependants                    0\n",
       "income                          0\n",
       "state                           0\n",
       "busiest_period_of_day           0\n",
       "busiest_day                     0\n",
       "price_range_flag                0\n",
       "reordered                       0\n",
       "max_order_flag                  0\n",
       "loyalty_flag                    0\n",
       "mean_order_flag                 0\n",
       "spending_flag                   0\n",
       "median_prior_orders             5\n",
       "frequency_flag                  5\n",
       "aisle_id                        0\n",
       "eval_set                        0\n",
       "dtype: int64"
      ]
     },
     "execution_count": 52,
     "metadata": {},
     "output_type": "execute_result"
    }
   ],
   "source": [
    "df_final_table.isnull().sum()"
   ]
  },
  {
   "cell_type": "code",
   "execution_count": 53,
   "id": "01756cd6-1a80-4ab7-bb12-265ee7bb05c3",
   "metadata": {},
   "outputs": [
    {
     "data": {
      "text/plain": [
       "Index(['order_id', 'product_id', 'product_name', 'prices', 'department_id',\n",
       "       'order_number', 'order_day_of_week', 'order_hour_of_day',\n",
       "       'days_since_prior_order', 'add_to_cart_order', 'user_id', 'date_joined',\n",
       "       'first_name', 'surname', 'gender', 'age', 'fam_status', 'n_dependants',\n",
       "       'income', 'state', 'busiest_period_of_day', 'busiest_day',\n",
       "       'price_range_flag', 'reordered', 'max_order_flag', 'loyalty_flag',\n",
       "       'mean_order_flag', 'spending_flag', 'median_prior_orders',\n",
       "       'frequency_flag', 'aisle_id', 'eval_set'],\n",
       "      dtype='object')"
      ]
     },
     "execution_count": 53,
     "metadata": {},
     "output_type": "execute_result"
    }
   ],
   "source": [
    "df_final_table.columns"
   ]
  },
  {
   "cell_type": "code",
   "execution_count": null,
   "id": "e1e211e4-8716-41f2-8417-6a7d91ead928",
   "metadata": {
    "tags": []
   },
   "outputs": [],
   "source": [
    "## starting part 1"
   ]
  },
  {
   "cell_type": "markdown",
   "id": "bee51055-4ba3-435b-8f2c-3d2ec2be73df",
   "metadata": {
    "jp-MarkdownHeadingCollapsed": true,
    "tags": []
   },
   "source": [
    "#### create 'region_flag' "
   ]
  },
  {
   "cell_type": "code",
   "execution_count": 54,
   "id": "5c3b31b0-54c0-4932-a77e-d9dcd116e91a",
   "metadata": {
    "tags": []
   },
   "outputs": [],
   "source": [
    "# an if\n",
    "def region_flag (row):\n",
    "    northeastern_states = ['Maine', 'New Hampshire', 'Vermont', 'Massachusetts', 'Rhode Island', 'Connecticut', 'New York', 'Pennsylvania', 'New Jersey']\n",
    "    midwestern_states = ['Wisconsin', 'Michigan', 'Illinois', 'Indiana', 'Ohio', 'North Dakota', 'South Dakota', 'Nebraska', 'Kansas', 'Minnesota', 'Iowa', 'Missouri']\n",
    "    south_states = ['Alabama', 'Arkansas', 'Delaware', 'Florida', 'Kentucky', 'Louisiana', 'Maryland','District of Columbia', 'Mississippi', 'North Carolina', 'Oklahoma', 'South Carolina', 'Georgia','Tennessee', 'Texas', 'Virginia', 'West Virginia', 'Washington, D.C.']\n",
    "    west_states = ['Hawaii', 'California', 'Oregon', 'Washington', 'Alaska', 'New Mexico', 'Arizona', 'Colorado', 'Utah', 'Nevada', 'Wyoming', 'Montana', 'Idaho']\n",
    "\n",
    "\n",
    "    if row['state'] in northeastern_states:\n",
    "        return 'Northeast'\n",
    "    elif row['state'] in midwestern_states:\n",
    "        return 'Midwest'\n",
    "    elif row['state'] in south_states:\n",
    "        return 'South'\n",
    "    elif row['state'] in west_states:\n",
    "        return 'West'\n",
    "    else:\n",
    "        return 'Not enough data'\n"
   ]
  },
  {
   "cell_type": "code",
   "execution_count": 55,
   "id": "da94e055-8df1-44fb-8217-677032e49561",
   "metadata": {},
   "outputs": [],
   "source": [
    "# add a new columne region_flag\n",
    "df_final_table['region'] = df_final_table.apply(region_flag, axis=1)"
   ]
  },
  {
   "cell_type": "code",
   "execution_count": 56,
   "id": "bdbeaf13-cf22-476c-abe5-c3d3a61cecd5",
   "metadata": {},
   "outputs": [
    {
     "data": {
      "text/html": [
       "<div>\n",
       "<style scoped>\n",
       "    .dataframe tbody tr th:only-of-type {\n",
       "        vertical-align: middle;\n",
       "    }\n",
       "\n",
       "    .dataframe tbody tr th {\n",
       "        vertical-align: top;\n",
       "    }\n",
       "\n",
       "    .dataframe thead th {\n",
       "        text-align: right;\n",
       "    }\n",
       "</style>\n",
       "<table border=\"1\" class=\"dataframe\">\n",
       "  <thead>\n",
       "    <tr style=\"text-align: right;\">\n",
       "      <th></th>\n",
       "      <th>order_id</th>\n",
       "      <th>product_id</th>\n",
       "      <th>product_name</th>\n",
       "      <th>prices</th>\n",
       "      <th>department_id</th>\n",
       "      <th>order_number</th>\n",
       "      <th>order_day_of_week</th>\n",
       "      <th>order_hour_of_day</th>\n",
       "      <th>days_since_prior_order</th>\n",
       "      <th>add_to_cart_order</th>\n",
       "      <th>...</th>\n",
       "      <th>reordered</th>\n",
       "      <th>max_order_flag</th>\n",
       "      <th>loyalty_flag</th>\n",
       "      <th>mean_order_flag</th>\n",
       "      <th>spending_flag</th>\n",
       "      <th>median_prior_orders</th>\n",
       "      <th>frequency_flag</th>\n",
       "      <th>aisle_id</th>\n",
       "      <th>eval_set</th>\n",
       "      <th>region</th>\n",
       "    </tr>\n",
       "  </thead>\n",
       "  <tbody>\n",
       "    <tr>\n",
       "      <th>0</th>\n",
       "      <td>2539329</td>\n",
       "      <td>196</td>\n",
       "      <td>Soda</td>\n",
       "      <td>9.0</td>\n",
       "      <td>7</td>\n",
       "      <td>1</td>\n",
       "      <td>2</td>\n",
       "      <td>8</td>\n",
       "      <td>NaN</td>\n",
       "      <td>1</td>\n",
       "      <td>...</td>\n",
       "      <td>0</td>\n",
       "      <td>10</td>\n",
       "      <td>New customer</td>\n",
       "      <td>6.367797</td>\n",
       "      <td>Low spender</td>\n",
       "      <td>20.5</td>\n",
       "      <td>Non-frequent customer</td>\n",
       "      <td>77</td>\n",
       "      <td>prior</td>\n",
       "      <td>South</td>\n",
       "    </tr>\n",
       "    <tr>\n",
       "      <th>1</th>\n",
       "      <td>2398795</td>\n",
       "      <td>196</td>\n",
       "      <td>Soda</td>\n",
       "      <td>9.0</td>\n",
       "      <td>7</td>\n",
       "      <td>2</td>\n",
       "      <td>3</td>\n",
       "      <td>7</td>\n",
       "      <td>15.0</td>\n",
       "      <td>1</td>\n",
       "      <td>...</td>\n",
       "      <td>1</td>\n",
       "      <td>10</td>\n",
       "      <td>New customer</td>\n",
       "      <td>6.367797</td>\n",
       "      <td>Low spender</td>\n",
       "      <td>20.5</td>\n",
       "      <td>Non-frequent customer</td>\n",
       "      <td>77</td>\n",
       "      <td>prior</td>\n",
       "      <td>South</td>\n",
       "    </tr>\n",
       "    <tr>\n",
       "      <th>2</th>\n",
       "      <td>473747</td>\n",
       "      <td>196</td>\n",
       "      <td>Soda</td>\n",
       "      <td>9.0</td>\n",
       "      <td>7</td>\n",
       "      <td>3</td>\n",
       "      <td>3</td>\n",
       "      <td>12</td>\n",
       "      <td>21.0</td>\n",
       "      <td>1</td>\n",
       "      <td>...</td>\n",
       "      <td>1</td>\n",
       "      <td>10</td>\n",
       "      <td>New customer</td>\n",
       "      <td>6.367797</td>\n",
       "      <td>Low spender</td>\n",
       "      <td>20.5</td>\n",
       "      <td>Non-frequent customer</td>\n",
       "      <td>77</td>\n",
       "      <td>prior</td>\n",
       "      <td>South</td>\n",
       "    </tr>\n",
       "    <tr>\n",
       "      <th>3</th>\n",
       "      <td>2254736</td>\n",
       "      <td>196</td>\n",
       "      <td>Soda</td>\n",
       "      <td>9.0</td>\n",
       "      <td>7</td>\n",
       "      <td>4</td>\n",
       "      <td>4</td>\n",
       "      <td>7</td>\n",
       "      <td>29.0</td>\n",
       "      <td>1</td>\n",
       "      <td>...</td>\n",
       "      <td>1</td>\n",
       "      <td>10</td>\n",
       "      <td>New customer</td>\n",
       "      <td>6.367797</td>\n",
       "      <td>Low spender</td>\n",
       "      <td>20.5</td>\n",
       "      <td>Non-frequent customer</td>\n",
       "      <td>77</td>\n",
       "      <td>prior</td>\n",
       "      <td>South</td>\n",
       "    </tr>\n",
       "    <tr>\n",
       "      <th>4</th>\n",
       "      <td>431534</td>\n",
       "      <td>196</td>\n",
       "      <td>Soda</td>\n",
       "      <td>9.0</td>\n",
       "      <td>7</td>\n",
       "      <td>5</td>\n",
       "      <td>4</td>\n",
       "      <td>15</td>\n",
       "      <td>28.0</td>\n",
       "      <td>1</td>\n",
       "      <td>...</td>\n",
       "      <td>1</td>\n",
       "      <td>10</td>\n",
       "      <td>New customer</td>\n",
       "      <td>6.367797</td>\n",
       "      <td>Low spender</td>\n",
       "      <td>20.5</td>\n",
       "      <td>Non-frequent customer</td>\n",
       "      <td>77</td>\n",
       "      <td>prior</td>\n",
       "      <td>South</td>\n",
       "    </tr>\n",
       "  </tbody>\n",
       "</table>\n",
       "<p>5 rows × 33 columns</p>\n",
       "</div>"
      ],
      "text/plain": [
       "   order_id  product_id product_name  prices  department_id  order_number  \\\n",
       "0   2539329         196         Soda     9.0              7             1   \n",
       "1   2398795         196         Soda     9.0              7             2   \n",
       "2    473747         196         Soda     9.0              7             3   \n",
       "3   2254736         196         Soda     9.0              7             4   \n",
       "4    431534         196         Soda     9.0              7             5   \n",
       "\n",
       "   order_day_of_week  order_hour_of_day  days_since_prior_order  \\\n",
       "0                  2                  8                     NaN   \n",
       "1                  3                  7                    15.0   \n",
       "2                  3                 12                    21.0   \n",
       "3                  4                  7                    29.0   \n",
       "4                  4                 15                    28.0   \n",
       "\n",
       "   add_to_cart_order  ...  reordered max_order_flag  loyalty_flag  \\\n",
       "0                  1  ...          0             10  New customer   \n",
       "1                  1  ...          1             10  New customer   \n",
       "2                  1  ...          1             10  New customer   \n",
       "3                  1  ...          1             10  New customer   \n",
       "4                  1  ...          1             10  New customer   \n",
       "\n",
       "  mean_order_flag spending_flag  median_prior_orders         frequency_flag  \\\n",
       "0        6.367797   Low spender                 20.5  Non-frequent customer   \n",
       "1        6.367797   Low spender                 20.5  Non-frequent customer   \n",
       "2        6.367797   Low spender                 20.5  Non-frequent customer   \n",
       "3        6.367797   Low spender                 20.5  Non-frequent customer   \n",
       "4        6.367797   Low spender                 20.5  Non-frequent customer   \n",
       "\n",
       "   aisle_id  eval_set region  \n",
       "0        77     prior  South  \n",
       "1        77     prior  South  \n",
       "2        77     prior  South  \n",
       "3        77     prior  South  \n",
       "4        77     prior  South  \n",
       "\n",
       "[5 rows x 33 columns]"
      ]
     },
     "execution_count": 56,
     "metadata": {},
     "output_type": "execute_result"
    }
   ],
   "source": [
    "df_final_table.head()"
   ]
  },
  {
   "cell_type": "markdown",
   "id": "7473fc2c-1f58-4143-905d-2bfc9f36c07b",
   "metadata": {
    "jp-MarkdownHeadingCollapsed": true,
    "tags": []
   },
   "source": [
    "#### crosstab 'spending habits'"
   ]
  },
  {
   "cell_type": "code",
   "execution_count": 57,
   "id": "fa0ea20c-3362-474a-94a2-b875bca76e26",
   "metadata": {},
   "outputs": [],
   "source": [
    "cross_tab = pd.crosstab(df_final_table['region'], df_final_table['spending_flag'])"
   ]
  },
  {
   "cell_type": "code",
   "execution_count": 58,
   "id": "9609ac4e-13f8-4af8-9425-2e0653edf18d",
   "metadata": {},
   "outputs": [
    {
     "data": {
      "text/html": [
       "<div>\n",
       "<style scoped>\n",
       "    .dataframe tbody tr th:only-of-type {\n",
       "        vertical-align: middle;\n",
       "    }\n",
       "\n",
       "    .dataframe tbody tr th {\n",
       "        vertical-align: top;\n",
       "    }\n",
       "\n",
       "    .dataframe thead th {\n",
       "        text-align: right;\n",
       "    }\n",
       "</style>\n",
       "<table border=\"1\" class=\"dataframe\">\n",
       "  <thead>\n",
       "    <tr style=\"text-align: right;\">\n",
       "      <th>spending_flag</th>\n",
       "      <th>High spender</th>\n",
       "      <th>Low spender</th>\n",
       "    </tr>\n",
       "    <tr>\n",
       "      <th>region</th>\n",
       "      <th></th>\n",
       "      <th></th>\n",
       "    </tr>\n",
       "  </thead>\n",
       "  <tbody>\n",
       "    <tr>\n",
       "      <th>Midwest</th>\n",
       "      <td>29224</td>\n",
       "      <td>7568361</td>\n",
       "    </tr>\n",
       "    <tr>\n",
       "      <th>Northeast</th>\n",
       "      <td>18597</td>\n",
       "      <td>5704342</td>\n",
       "    </tr>\n",
       "    <tr>\n",
       "      <th>South</th>\n",
       "      <td>40354</td>\n",
       "      <td>10751946</td>\n",
       "    </tr>\n",
       "    <tr>\n",
       "      <th>West</th>\n",
       "      <td>31140</td>\n",
       "      <td>8262077</td>\n",
       "    </tr>\n",
       "  </tbody>\n",
       "</table>\n",
       "</div>"
      ],
      "text/plain": [
       "spending_flag  High spender  Low spender\n",
       "region                                  \n",
       "Midwest               29224      7568361\n",
       "Northeast             18597      5704342\n",
       "South                 40354     10751946\n",
       "West                  31140      8262077"
      ]
     },
     "execution_count": 58,
     "metadata": {},
     "output_type": "execute_result"
    }
   ],
   "source": [
    "cross_tab.head()"
   ]
  },
  {
   "cell_type": "code",
   "execution_count": 59,
   "id": "2d8e0b42-4fd8-437c-ae3f-92e41d8a25b6",
   "metadata": {},
   "outputs": [
    {
     "data": {
      "text/plain": [
       "Text(0.5, 1.0, 'Number of orders in each region')"
      ]
     },
     "execution_count": 59,
     "metadata": {},
     "output_type": "execute_result"
    },
    {
     "data": {
      "image/png": "[encoded data removed]",
      "text/plain": [
       "<Figure size 640x480 with 1 Axes>"
      ]
     },
     "metadata": {},
     "output_type": "display_data"
    }
   ],
   "source": [
    "import matplotlib.pyplot as plt\n",
    "\n",
    "# Create a bar chart\n",
    "bar4_state = cross_tab.plot.bar()\n",
    "\n",
    "# Add labels and title\n",
    "plt.xlabel('Region')\n",
    "plt.ylabel('Number in thousand')\n",
    "plt.title('Number of orders in each region')"
   ]
  },
  {
   "cell_type": "code",
   "execution_count": 133,
   "id": "d2da21a9-3a7c-4360-9887-11ab5b94cba6",
   "metadata": {},
   "outputs": [],
   "source": [
    "path_2 = r'//Users/franziska/Documents/__CareerFoundry_Data Analyst/4_Exercise_python/__01_Insta_160723/04 Analysis/Visualizations'\n",
    "# Export bar chart Number of orders in each region\n",
    "bar4_state.figure.savefig(os.path.join(path_2,'spender_region'))"
   ]
  },
  {
   "cell_type": "markdown",
   "id": "c48b8474-c067-4052-9f47-46122dcce19f",
   "metadata": {
    "jp-MarkdownHeadingCollapsed": true,
    "tags": []
   },
   "source": [
    "#### create flag for 'low-activity'"
   ]
  },
  {
   "cell_type": "code",
   "execution_count": 61,
   "id": "118c59fc-7eb3-4b8f-b114-5a526ea09766",
   "metadata": {},
   "outputs": [],
   "source": [
    "# exclusion flag for low-activity customers\n",
    "df_final_table.loc[df_final_table['mean_order_flag'] < 5, 'low_activity_flag'] = 'low_spender'"
   ]
  },
  {
   "cell_type": "code",
   "execution_count": 62,
   "id": "331e05bf-e26e-4c3c-9ae4-dc2400a72214",
   "metadata": {},
   "outputs": [],
   "source": [
    "# exclusion flag for high-activity customers\n",
    "df_final_table.loc[df_final_table['mean_order_flag'] >= 5, 'low_activity_flag'] = 'high_spender'"
   ]
  },
  {
   "cell_type": "code",
   "execution_count": 63,
   "id": "1ae292f3-6765-48e3-8e51-017901414c47",
   "metadata": {},
   "outputs": [
    {
     "data": {
      "text/plain": [
       "high_spender    32318881\n",
       "low_spender        87160\n",
       "Name: low_activity_flag, dtype: int64"
      ]
     },
     "execution_count": 63,
     "metadata": {},
     "output_type": "execute_result"
    }
   ],
   "source": [
    "df_final_table['low_activity_flag'].value_counts(dropna = False)"
   ]
  },
  {
   "cell_type": "code",
   "execution_count": 64,
   "id": "8a1fd3ef-ecc0-46c7-9e72-6d64470c474e",
   "metadata": {},
   "outputs": [],
   "source": [
    "# Create a subset for low_spender customers and exclude them by exporting the new subset\n",
    "df_low_spender = df_final_table.loc[df_final_table['low_activity_flag'] == 'low_spender']"
   ]
  },
  {
   "cell_type": "code",
   "execution_count": 65,
   "id": "b4161ac2-c8b3-404a-97a9-e195c786e064",
   "metadata": {},
   "outputs": [
    {
     "name": "stdout",
     "output_type": "stream",
     "text": [
      "Top Products High Spender:\n",
      "Banana                    472350\n",
      "Bag of Organic Bananas    378750\n",
      "Organic Strawberries      264375\n",
      "Organic Baby Spinach      241700\n",
      "Organic Hass Avocado      213460\n",
      "Name: product_name, dtype: int64\n",
      "\n",
      "Top Products Low Spender:\n",
      "Spring Water           2442\n",
      "Trail Mix              1976\n",
      "Clementines            1850\n",
      "Organic Half & Half    1632\n",
      "Strawberries           1456\n",
      "Name: product_name, dtype: int64\n",
      "\n",
      "Chi-squared p-value: 0.0\n",
      "\n",
      "There is a significant difference in product preferences between High- and Low-spender.\n"
     ]
    }
   ],
   "source": [
    "# difference between high- and low-spender\n",
    "\n",
    "import scipy.stats as stats  # Import the stats module from SciPy\n",
    "\n",
    "high_spending_orders = df_final_table[df_final_table['low_activity_flag'] == 'high_spender']\n",
    "low_spending_orders = df_final_table[df_final_table['low_activity_flag'] == 'low_spender']\n",
    "\n",
    "# Analyze the most frequently ordered products by gender\n",
    "top_products_men = high_spending_orders['product_name'].value_counts().head(5)\n",
    "top_products_women = low_spending_orders['product_name'].value_counts().head(5)\n",
    "\n",
    "# Perform a chi-squared test to check for significant differences\n",
    "chi2, p, _, _ = stats.chi2_contingency(pd.crosstab(df_final_table['low_activity_flag'], df_final_table['product_name']))\n",
    "\n",
    "# Print the results\n",
    "print(\"Top Products High Spender:\")\n",
    "print(top_products_men)\n",
    "print(\"\\nTop Products Low Spender:\")\n",
    "print(top_products_women)\n",
    "print(\"\\nChi-squared p-value:\", p)\n",
    "\n",
    "# Determine if there is a significant difference\n",
    "if p < 0.05:\n",
    "    print(\"\\nThere is a significant difference in product preferences between High- and Low-spender.\")\n",
    "else:\n",
    "    print(\"\\nThere is no significant difference in product preferences between High- and Low-spender.\")"
   ]
  },
  {
   "cell_type": "code",
   "execution_count": 66,
   "id": "3e91170d-ec43-48f2-a26a-5257e6f89e78",
   "metadata": {},
   "outputs": [],
   "source": [
    "# Export\n",
    "df_low_spender.to_pickle(os.path.join(path, 'low_spender.pkl'))"
   ]
  },
  {
   "cell_type": "code",
   "execution_count": 67,
   "id": "259353b4-d077-427d-9c78-1e553180bd82",
   "metadata": {},
   "outputs": [],
   "source": [
    "# Exclude low_spender from the dataframe\n",
    "df_final_table = df_final_table.loc[df_final_table ['low_activity_flag'] == 'high_spender']"
   ]
  },
  {
   "cell_type": "code",
   "execution_count": 68,
   "id": "7954ceb1-781c-48f3-bff9-8c0b5bff70b2",
   "metadata": {},
   "outputs": [
    {
     "data": {
      "text/plain": [
       "high_spender    32318881\n",
       "Name: low_activity_flag, dtype: int64"
      ]
     },
     "execution_count": 68,
     "metadata": {},
     "output_type": "execute_result"
    }
   ],
   "source": [
    "# Check frequency\n",
    "df_final_table['low_activity_flag'].value_counts(dropna = False)"
   ]
  },
  {
   "cell_type": "code",
   "execution_count": null,
   "id": "99115f29-a7ab-4fc4-9032-702b528adc61",
   "metadata": {
    "tags": []
   },
   "outputs": [],
   "source": [
    "#### Step 5"
   ]
  },
  {
   "cell_type": "markdown",
   "id": "32cc71cc-ca45-4d5f-b603-6fbed2ddae93",
   "metadata": {
    "jp-MarkdownHeadingCollapsed": true,
    "tags": []
   },
   "source": [
    "#### create age group\n",
    "###### count in age group | income by age group | busiest day by age group | order by age groups | order hour by age groups"
   ]
  },
  {
   "cell_type": "code",
   "execution_count": 69,
   "id": "f0582fd4-8979-4c4f-a4f9-2efa5f1f461d",
   "metadata": {},
   "outputs": [
    {
     "data": {
      "text/plain": [
       "49    530258\n",
       "48    528716\n",
       "79    528206\n",
       "31    527033\n",
       "64    526195\n",
       "       ...  \n",
       "60    482649\n",
       "36    482332\n",
       "66    475682\n",
       "41    473922\n",
       "25    469810\n",
       "Name: age, Length: 64, dtype: int64"
      ]
     },
     "execution_count": 69,
     "metadata": {},
     "output_type": "execute_result"
    }
   ],
   "source": [
    "# age groups (have a look a the age)\n",
    "df_final_table['age'].value_counts(dropna = False)"
   ]
  },
  {
   "cell_type": "code",
   "execution_count": 70,
   "id": "e1071acb-45b2-48ee-b050-a0af0f5bb07b",
   "metadata": {},
   "outputs": [],
   "source": [
    "# Importing libraries (matplotlib.pyplot,seaborn, scipy)\n",
    "import matplotlib.pyplot as plt\n",
    "import seaborn as sns\n",
    "import scipy"
   ]
  },
  {
   "cell_type": "code",
   "execution_count": 71,
   "id": "5e300a5d-b79b-4160-a5c8-d5f271f33f6e",
   "metadata": {},
   "outputs": [],
   "source": [
    "path_2 = r'//Users/franziska/Documents/__CareerFoundry_Data Analyst/4_Exercise_python/__01_Insta_160723/04 Analysis/Visualizations'"
   ]
  },
  {
   "cell_type": "code",
   "execution_count": 72,
   "id": "066cbae1-9cda-42fe-8647-f8c00b0e6959",
   "metadata": {},
   "outputs": [
    {
     "data": {
      "image/png": "[encoded data removed]",
      "text/plain": [
       "<Figure size 640x480 with 1 Axes>"
      ]
     },
     "metadata": {},
     "output_type": "display_data"
    }
   ],
   "source": [
    "# create age bar chart\n",
    "bar_age=df_final_table['age'].value_counts().sort_index().plot.bar()"
   ]
  },
  {
   "cell_type": "code",
   "execution_count": 73,
   "id": "0337c234-58dd-434a-873d-8867c1249cdc",
   "metadata": {},
   "outputs": [],
   "source": [
    "# Define age groups\n",
    "bins = [ 18, 30, 40, 50, 60, 70, float('inf')]\n",
    "labels = ['18-30', '31-40', '41-50', '51-60', '61-70', '71+']"
   ]
  },
  {
   "cell_type": "code",
   "execution_count": 74,
   "id": "f6b1232e-2e29-4ca3-ac9b-40f45334ea00",
   "metadata": {
    "tags": []
   },
   "outputs": [],
   "source": [
    "# Add a new column to the DataFrame to categorize ages into groups\n",
    "df_final_table['age_group'] = pd.cut(df_final_table['age'], bins=bins, labels=labels, right=False)"
   ]
  },
  {
   "cell_type": "code",
   "execution_count": 75,
   "id": "a158cbbb-8c2f-4ef5-aa5c-6d7d497cb5a1",
   "metadata": {
    "tags": []
   },
   "outputs": [],
   "source": [
    "# Count individuals in each age group\n",
    "age_group_counts = df_final_table['age_group'].value_counts()"
   ]
  },
  {
   "cell_type": "code",
   "execution_count": 76,
   "id": "b22e190f-08bc-4260-8bd5-ce60e02035f3",
   "metadata": {
    "tags": []
   },
   "outputs": [
    {
     "data": {
      "text/plain": [
       "18-30    6074260\n",
       "71+      6062415\n",
       "41-50    5096083\n",
       "31-40    5061671\n",
       "51-60    5049778\n",
       "61-70    4974674\n",
       "Name: age_group, dtype: int64"
      ]
     },
     "execution_count": 76,
     "metadata": {},
     "output_type": "execute_result"
    }
   ],
   "source": [
    "age_group_counts"
   ]
  },
  {
   "cell_type": "code",
   "execution_count": 77,
   "id": "aec3b21f-c12d-4f0e-96b6-1a9cbebef6cc",
   "metadata": {},
   "outputs": [
    {
     "data": {
      "text/plain": [
       "Text(0.5, 1.0, 'Number of Individuals in Each Age Group')"
      ]
     },
     "execution_count": 77,
     "metadata": {},
     "output_type": "execute_result"
    },
    {
     "data": {
      "image/png": "[encoded data removed]",
      "text/plain": [
       "<Figure size 640x480 with 1 Axes>"
      ]
     },
     "metadata": {},
     "output_type": "display_data"
    }
   ],
   "source": [
    "# Create a bar chart\n",
    "bar5_age = age_group_counts.plot.bar()\n",
    "\n",
    "# Add labels and title\n",
    "plt.xlabel('Age Group')\n",
    "plt.ylabel('Number of Individuals')\n",
    "plt.title('Number of Individuals in Each Age Group')"
   ]
  },
  {
   "cell_type": "code",
   "execution_count": 78,
   "id": "aae97617-5899-4fa0-bab7-2d22bf84a2b7",
   "metadata": {},
   "outputs": [],
   "source": [
    "# Export bar chart age groups\n",
    "bar5_age.figure.savefig(os.path.join(path_2,'spender_region'))"
   ]
  },
  {
   "cell_type": "code",
   "execution_count": 79,
   "id": "44ce0173-7c0f-4c9d-8921-1c8dcc40a588",
   "metadata": {},
   "outputs": [
    {
     "data": {
      "text/html": [
       "<div>\n",
       "<style scoped>\n",
       "    .dataframe tbody tr th:only-of-type {\n",
       "        vertical-align: middle;\n",
       "    }\n",
       "\n",
       "    .dataframe tbody tr th {\n",
       "        vertical-align: top;\n",
       "    }\n",
       "\n",
       "    .dataframe thead th {\n",
       "        text-align: right;\n",
       "    }\n",
       "</style>\n",
       "<table border=\"1\" class=\"dataframe\">\n",
       "  <thead>\n",
       "    <tr style=\"text-align: right;\">\n",
       "      <th></th>\n",
       "      <th>order_id</th>\n",
       "      <th>product_id</th>\n",
       "      <th>product_name</th>\n",
       "      <th>prices</th>\n",
       "      <th>department_id</th>\n",
       "      <th>order_number</th>\n",
       "      <th>order_day_of_week</th>\n",
       "      <th>order_hour_of_day</th>\n",
       "      <th>days_since_prior_order</th>\n",
       "      <th>add_to_cart_order</th>\n",
       "      <th>...</th>\n",
       "      <th>loyalty_flag</th>\n",
       "      <th>mean_order_flag</th>\n",
       "      <th>spending_flag</th>\n",
       "      <th>median_prior_orders</th>\n",
       "      <th>frequency_flag</th>\n",
       "      <th>aisle_id</th>\n",
       "      <th>eval_set</th>\n",
       "      <th>region</th>\n",
       "      <th>low_activity_flag</th>\n",
       "      <th>age_group</th>\n",
       "    </tr>\n",
       "  </thead>\n",
       "  <tbody>\n",
       "    <tr>\n",
       "      <th>0</th>\n",
       "      <td>2539329</td>\n",
       "      <td>196</td>\n",
       "      <td>Soda</td>\n",
       "      <td>9.0</td>\n",
       "      <td>7</td>\n",
       "      <td>1</td>\n",
       "      <td>2</td>\n",
       "      <td>8</td>\n",
       "      <td>NaN</td>\n",
       "      <td>1</td>\n",
       "      <td>...</td>\n",
       "      <td>New customer</td>\n",
       "      <td>6.367797</td>\n",
       "      <td>Low spender</td>\n",
       "      <td>20.5</td>\n",
       "      <td>Non-frequent customer</td>\n",
       "      <td>77</td>\n",
       "      <td>prior</td>\n",
       "      <td>South</td>\n",
       "      <td>high_spender</td>\n",
       "      <td>31-40</td>\n",
       "    </tr>\n",
       "    <tr>\n",
       "      <th>1</th>\n",
       "      <td>2398795</td>\n",
       "      <td>196</td>\n",
       "      <td>Soda</td>\n",
       "      <td>9.0</td>\n",
       "      <td>7</td>\n",
       "      <td>2</td>\n",
       "      <td>3</td>\n",
       "      <td>7</td>\n",
       "      <td>15.0</td>\n",
       "      <td>1</td>\n",
       "      <td>...</td>\n",
       "      <td>New customer</td>\n",
       "      <td>6.367797</td>\n",
       "      <td>Low spender</td>\n",
       "      <td>20.5</td>\n",
       "      <td>Non-frequent customer</td>\n",
       "      <td>77</td>\n",
       "      <td>prior</td>\n",
       "      <td>South</td>\n",
       "      <td>high_spender</td>\n",
       "      <td>31-40</td>\n",
       "    </tr>\n",
       "    <tr>\n",
       "      <th>2</th>\n",
       "      <td>473747</td>\n",
       "      <td>196</td>\n",
       "      <td>Soda</td>\n",
       "      <td>9.0</td>\n",
       "      <td>7</td>\n",
       "      <td>3</td>\n",
       "      <td>3</td>\n",
       "      <td>12</td>\n",
       "      <td>21.0</td>\n",
       "      <td>1</td>\n",
       "      <td>...</td>\n",
       "      <td>New customer</td>\n",
       "      <td>6.367797</td>\n",
       "      <td>Low spender</td>\n",
       "      <td>20.5</td>\n",
       "      <td>Non-frequent customer</td>\n",
       "      <td>77</td>\n",
       "      <td>prior</td>\n",
       "      <td>South</td>\n",
       "      <td>high_spender</td>\n",
       "      <td>31-40</td>\n",
       "    </tr>\n",
       "    <tr>\n",
       "      <th>3</th>\n",
       "      <td>2254736</td>\n",
       "      <td>196</td>\n",
       "      <td>Soda</td>\n",
       "      <td>9.0</td>\n",
       "      <td>7</td>\n",
       "      <td>4</td>\n",
       "      <td>4</td>\n",
       "      <td>7</td>\n",
       "      <td>29.0</td>\n",
       "      <td>1</td>\n",
       "      <td>...</td>\n",
       "      <td>New customer</td>\n",
       "      <td>6.367797</td>\n",
       "      <td>Low spender</td>\n",
       "      <td>20.5</td>\n",
       "      <td>Non-frequent customer</td>\n",
       "      <td>77</td>\n",
       "      <td>prior</td>\n",
       "      <td>South</td>\n",
       "      <td>high_spender</td>\n",
       "      <td>31-40</td>\n",
       "    </tr>\n",
       "    <tr>\n",
       "      <th>4</th>\n",
       "      <td>431534</td>\n",
       "      <td>196</td>\n",
       "      <td>Soda</td>\n",
       "      <td>9.0</td>\n",
       "      <td>7</td>\n",
       "      <td>5</td>\n",
       "      <td>4</td>\n",
       "      <td>15</td>\n",
       "      <td>28.0</td>\n",
       "      <td>1</td>\n",
       "      <td>...</td>\n",
       "      <td>New customer</td>\n",
       "      <td>6.367797</td>\n",
       "      <td>Low spender</td>\n",
       "      <td>20.5</td>\n",
       "      <td>Non-frequent customer</td>\n",
       "      <td>77</td>\n",
       "      <td>prior</td>\n",
       "      <td>South</td>\n",
       "      <td>high_spender</td>\n",
       "      <td>31-40</td>\n",
       "    </tr>\n",
       "  </tbody>\n",
       "</table>\n",
       "<p>5 rows × 35 columns</p>\n",
       "</div>"
      ],
      "text/plain": [
       "   order_id  product_id product_name  prices  department_id  order_number  \\\n",
       "0   2539329         196         Soda     9.0              7             1   \n",
       "1   2398795         196         Soda     9.0              7             2   \n",
       "2    473747         196         Soda     9.0              7             3   \n",
       "3   2254736         196         Soda     9.0              7             4   \n",
       "4    431534         196         Soda     9.0              7             5   \n",
       "\n",
       "   order_day_of_week  order_hour_of_day  days_since_prior_order  \\\n",
       "0                  2                  8                     NaN   \n",
       "1                  3                  7                    15.0   \n",
       "2                  3                 12                    21.0   \n",
       "3                  4                  7                    29.0   \n",
       "4                  4                 15                    28.0   \n",
       "\n",
       "   add_to_cart_order  ...  loyalty_flag mean_order_flag spending_flag  \\\n",
       "0                  1  ...  New customer        6.367797   Low spender   \n",
       "1                  1  ...  New customer        6.367797   Low spender   \n",
       "2                  1  ...  New customer        6.367797   Low spender   \n",
       "3                  1  ...  New customer        6.367797   Low spender   \n",
       "4                  1  ...  New customer        6.367797   Low spender   \n",
       "\n",
       "  median_prior_orders         frequency_flag  aisle_id eval_set  region  \\\n",
       "0                20.5  Non-frequent customer        77    prior   South   \n",
       "1                20.5  Non-frequent customer        77    prior   South   \n",
       "2                20.5  Non-frequent customer        77    prior   South   \n",
       "3                20.5  Non-frequent customer        77    prior   South   \n",
       "4                20.5  Non-frequent customer        77    prior   South   \n",
       "\n",
       "   low_activity_flag age_group  \n",
       "0       high_spender     31-40  \n",
       "1       high_spender     31-40  \n",
       "2       high_spender     31-40  \n",
       "3       high_spender     31-40  \n",
       "4       high_spender     31-40  \n",
       "\n",
       "[5 rows x 35 columns]"
      ]
     },
     "execution_count": 79,
     "metadata": {},
     "output_type": "execute_result"
    }
   ],
   "source": [
    "df_final_table.head()"
   ]
  },
  {
   "cell_type": "markdown",
   "id": "97ec7835-d4ad-4cb8-9a7d-21468986f2b6",
   "metadata": {
    "jp-MarkdownHeadingCollapsed": true,
    "tags": []
   },
   "source": [
    "### retrieve insights"
   ]
  },
  {
   "cell_type": "markdown",
   "id": "6f921bb5-2c08-4a19-bec6-6a0eb1a6a0eb",
   "metadata": {
    "tags": []
   },
   "source": [
    "#### check income by age group"
   ]
  },
  {
   "cell_type": "code",
   "execution_count": 80,
   "id": "b02b626d-368e-429f-9f73-eb19299f7636",
   "metadata": {
    "tags": []
   },
   "outputs": [
    {
     "data": {
      "image/png": "[encoded data removed]",
      "text/plain": [
       "<Figure size 640x480 with 1 Axes>"
      ]
     },
     "metadata": {},
     "output_type": "display_data"
    }
   ],
   "source": [
    "# create a line chart 'age_group','income`\n",
    "line5 = sns.lineplot(data = df_final_table, x ='age_group', y = 'income')"
   ]
  },
  {
   "cell_type": "code",
   "execution_count": 81,
   "id": "17bef9a7-4a72-432c-8c67-01cbdb0baac0",
   "metadata": {},
   "outputs": [],
   "source": [
    "# Export bar chart age groups\n",
    "line5.figure.savefig(os.path.join(path_2,'income_age_group'))"
   ]
  },
  {
   "cell_type": "markdown",
   "id": "b095391e-f4ff-4903-9c67-caa84041ee91",
   "metadata": {
    "jp-MarkdownHeadingCollapsed": true,
    "tags": []
   },
   "source": [
    "#### check date family status by counts"
   ]
  },
  {
   "cell_type": "code",
   "execution_count": 82,
   "id": "db2e5c4d-2ba2-4b2e-b613-c0669b21d025",
   "metadata": {},
   "outputs": [],
   "source": [
    "# Count individuals in each age group\n",
    "fam_status_counts = df_final_table['fam_status'].value_counts()"
   ]
  },
  {
   "cell_type": "code",
   "execution_count": 83,
   "id": "72b05da6-edff-4ccc-8098-ab2218832bdf",
   "metadata": {},
   "outputs": [
    {
     "data": {
      "text/plain": [
       "married                             22697328\n",
       "single                               5310999\n",
       "divorced/widowed                     2763604\n",
       "living with parents and siblings     1546950\n",
       "Name: fam_status, dtype: int64"
      ]
     },
     "execution_count": 83,
     "metadata": {},
     "output_type": "execute_result"
    }
   ],
   "source": [
    "fam_status_counts"
   ]
  },
  {
   "cell_type": "code",
   "execution_count": 84,
   "id": "cadbf444-5ba2-4dec-83dc-94239e14fcb6",
   "metadata": {},
   "outputs": [
    {
     "data": {
      "image/png": "[encoded data removed]",
      "text/plain": [
       "<Figure size 640x480 with 1 Axes>"
      ]
     },
     "metadata": {},
     "output_type": "display_data"
    }
   ],
   "source": [
    "# Create a bar chart\n",
    "bar6_fam_status = fam_status_counts.plot.bar()"
   ]
  },
  {
   "cell_type": "code",
   "execution_count": 85,
   "id": "8bcc3324-533e-4b45-a298-cfb23bdafb83",
   "metadata": {},
   "outputs": [],
   "source": [
    "# Export bar chart age groups\n",
    "bar6_fam_status.figure.savefig(os.path.join(path_2,'bar_fam_status'))"
   ]
  },
  {
   "cell_type": "markdown",
   "id": "77de52c0-50a0-4d16-abba-a0f089b392db",
   "metadata": {
    "jp-MarkdownHeadingCollapsed": true,
    "tags": []
   },
   "source": [
    "#### check busiest day of the week by age group"
   ]
  },
  {
   "cell_type": "code",
   "execution_count": 86,
   "id": "1d30acbf-1dd8-4ab7-9f9a-14016bc77d2a",
   "metadata": {},
   "outputs": [],
   "source": [
    "# Create a pivot table to get the count of busiest days by age group\n",
    "pivot_table = pd.pivot_table(df_final_table, columns='order_day_of_week', index='age_group', aggfunc='size', fill_value=0)"
   ]
  },
  {
   "cell_type": "code",
   "execution_count": 87,
   "id": "c3900c0e-7e26-4af3-b701-200db1e4050a",
   "metadata": {},
   "outputs": [
    {
     "data": {
      "image/png": "[encoded data removed]",
      "text/plain": [
       "<Figure size 1000x600 with 1 Axes>"
      ]
     },
     "metadata": {},
     "output_type": "display_data"
    }
   ],
   "source": [
    "# Create a bar chart\n",
    "ax = pivot_table.plot(kind='bar', stacked=True, figsize=(10, 6))\n",
    "\n",
    "# Add labels and title\n",
    "plt.xlabel('Age Group')\n",
    "plt.ylabel('Count')\n",
    "plt.title('Count of Busiest Days by Age Group')\n",
    "\n",
    "# Adjust the legend placement\n",
    "plt.legend(loc='upper left') \n",
    "\n",
    "# Reduce the white space around the plot\n",
    "plt.subplots_adjust(left=0.1, right=0.9, top=0.9, bottom=0.1)\n",
    "\n",
    "# Save the figure as a PNG file with reduced padding\n",
    "plt.savefig('bar_chart.png', dpi=300, bbox_inches='tight', pad_inches=0.1)"
   ]
  },
  {
   "cell_type": "code",
   "execution_count": 88,
   "id": "1bb240a6-dae7-417c-b110-58f340bedffe",
   "metadata": {},
   "outputs": [],
   "source": [
    "# Get the Matplotlib figure from the axes object\n",
    "fig = ax.get_figure()"
   ]
  },
  {
   "cell_type": "code",
   "execution_count": 89,
   "id": "267ae1c1-2d66-443e-af5c-14b66704e8af",
   "metadata": {},
   "outputs": [],
   "source": [
    "# Save the figure to a file\n",
    "fig.savefig(os.path.join(path_2, 'busiest_day.png'))"
   ]
  },
  {
   "cell_type": "markdown",
   "id": "180ff779-e7a9-498e-88e8-112e33bfe3ed",
   "metadata": {
    "jp-MarkdownHeadingCollapsed": true,
    "tags": []
   },
   "source": [
    "#### check department by age group related to 'max_order_flag'"
   ]
  },
  {
   "cell_type": "code",
   "execution_count": 90,
   "id": "5ab34bda-85d7-4d7e-b525-7e95d620c259",
   "metadata": {},
   "outputs": [],
   "source": [
    "# Group by 'age_group' and 'department_id', then calculate the sum of 'order_count'\n",
    "grouped = df_final_table.groupby(['age_group', 'department_id'])['max_order_flag'].sum()"
   ]
  },
  {
   "cell_type": "code",
   "execution_count": 91,
   "id": "21d4e87f-224d-40ec-ae0f-027b8e6ce827",
   "metadata": {},
   "outputs": [
    {
     "name": "stdout",
     "output_type": "stream",
     "text": [
      "age_group  department_id\n",
      "18-30      1                12554941\n",
      "           2                  238962\n",
      "           3                 7311616\n",
      "           4                60130947\n",
      "           5                  943745\n",
      "                              ...   \n",
      "71+        17                4217330\n",
      "           18                2869267\n",
      "           19               18060968\n",
      "           20                6351020\n",
      "           21                 363004\n",
      "Name: max_order_flag, Length: 126, dtype: int64\n"
     ]
    }
   ],
   "source": [
    "print(grouped)"
   ]
  },
  {
   "cell_type": "code",
   "execution_count": 92,
   "id": "28e02624-6e33-4fec-bc9f-1632fbfe9c0e",
   "metadata": {},
   "outputs": [],
   "source": [
    "# Convert the grouped data into a more readable DataFrame\n",
    "df_grouped_result = grouped.unstack(fill_value=0)"
   ]
  },
  {
   "cell_type": "code",
   "execution_count": 93,
   "id": "3c9a4ef0-5c90-42e1-827b-433539e33d92",
   "metadata": {},
   "outputs": [
    {
     "data": {
      "text/html": [
       "<div>\n",
       "<style scoped>\n",
       "    .dataframe tbody tr th:only-of-type {\n",
       "        vertical-align: middle;\n",
       "    }\n",
       "\n",
       "    .dataframe tbody tr th {\n",
       "        vertical-align: top;\n",
       "    }\n",
       "\n",
       "    .dataframe thead th {\n",
       "        text-align: right;\n",
       "    }\n",
       "</style>\n",
       "<table border=\"1\" class=\"dataframe\">\n",
       "  <thead>\n",
       "    <tr style=\"text-align: right;\">\n",
       "      <th>department_id</th>\n",
       "      <th>1</th>\n",
       "      <th>2</th>\n",
       "      <th>3</th>\n",
       "      <th>4</th>\n",
       "      <th>5</th>\n",
       "      <th>6</th>\n",
       "      <th>7</th>\n",
       "      <th>8</th>\n",
       "      <th>9</th>\n",
       "      <th>10</th>\n",
       "      <th>...</th>\n",
       "      <th>12</th>\n",
       "      <th>13</th>\n",
       "      <th>14</th>\n",
       "      <th>15</th>\n",
       "      <th>16</th>\n",
       "      <th>17</th>\n",
       "      <th>18</th>\n",
       "      <th>19</th>\n",
       "      <th>20</th>\n",
       "      <th>21</th>\n",
       "    </tr>\n",
       "    <tr>\n",
       "      <th>age_group</th>\n",
       "      <th></th>\n",
       "      <th></th>\n",
       "      <th></th>\n",
       "      <th></th>\n",
       "      <th></th>\n",
       "      <th></th>\n",
       "      <th></th>\n",
       "      <th></th>\n",
       "      <th></th>\n",
       "      <th></th>\n",
       "      <th></th>\n",
       "      <th></th>\n",
       "      <th></th>\n",
       "      <th></th>\n",
       "      <th></th>\n",
       "      <th></th>\n",
       "      <th></th>\n",
       "      <th></th>\n",
       "      <th></th>\n",
       "      <th></th>\n",
       "      <th></th>\n",
       "    </tr>\n",
       "  </thead>\n",
       "  <tbody>\n",
       "    <tr>\n",
       "      <th>18-30</th>\n",
       "      <td>12554941</td>\n",
       "      <td>238962</td>\n",
       "      <td>7311616</td>\n",
       "      <td>60130947</td>\n",
       "      <td>943745</td>\n",
       "      <td>1651892</td>\n",
       "      <td>16411185</td>\n",
       "      <td>556800</td>\n",
       "      <td>5059704</td>\n",
       "      <td>254265</td>\n",
       "      <td>...</td>\n",
       "      <td>4128418</td>\n",
       "      <td>11283110</td>\n",
       "      <td>4397897</td>\n",
       "      <td>6188594</td>\n",
       "      <td>35011401</td>\n",
       "      <td>4113431</td>\n",
       "      <td>3025865</td>\n",
       "      <td>18025165</td>\n",
       "      <td>6362982</td>\n",
       "      <td>398925</td>\n",
       "    </tr>\n",
       "    <tr>\n",
       "      <th>31-40</th>\n",
       "      <td>10537828</td>\n",
       "      <td>176377</td>\n",
       "      <td>6209922</td>\n",
       "      <td>51065589</td>\n",
       "      <td>793727</td>\n",
       "      <td>1342081</td>\n",
       "      <td>13598866</td>\n",
       "      <td>416366</td>\n",
       "      <td>4128485</td>\n",
       "      <td>199594</td>\n",
       "      <td>...</td>\n",
       "      <td>3445542</td>\n",
       "      <td>9426723</td>\n",
       "      <td>3577849</td>\n",
       "      <td>5059548</td>\n",
       "      <td>29549309</td>\n",
       "      <td>3383952</td>\n",
       "      <td>2552156</td>\n",
       "      <td>15256687</td>\n",
       "      <td>5396115</td>\n",
       "      <td>316150</td>\n",
       "    </tr>\n",
       "    <tr>\n",
       "      <th>41-50</th>\n",
       "      <td>10619517</td>\n",
       "      <td>173907</td>\n",
       "      <td>6160848</td>\n",
       "      <td>50604362</td>\n",
       "      <td>701094</td>\n",
       "      <td>1353879</td>\n",
       "      <td>14120191</td>\n",
       "      <td>437711</td>\n",
       "      <td>4128988</td>\n",
       "      <td>215753</td>\n",
       "      <td>...</td>\n",
       "      <td>3474762</td>\n",
       "      <td>9500469</td>\n",
       "      <td>3667065</td>\n",
       "      <td>5101521</td>\n",
       "      <td>29483568</td>\n",
       "      <td>3545749</td>\n",
       "      <td>2649529</td>\n",
       "      <td>14755942</td>\n",
       "      <td>5347254</td>\n",
       "      <td>336929</td>\n",
       "    </tr>\n",
       "    <tr>\n",
       "      <th>51-60</th>\n",
       "      <td>10696828</td>\n",
       "      <td>184706</td>\n",
       "      <td>6069378</td>\n",
       "      <td>50428686</td>\n",
       "      <td>722328</td>\n",
       "      <td>1315369</td>\n",
       "      <td>14043244</td>\n",
       "      <td>477769</td>\n",
       "      <td>4234094</td>\n",
       "      <td>192308</td>\n",
       "      <td>...</td>\n",
       "      <td>3411860</td>\n",
       "      <td>9341805</td>\n",
       "      <td>3566770</td>\n",
       "      <td>5101211</td>\n",
       "      <td>28477623</td>\n",
       "      <td>3386150</td>\n",
       "      <td>2517948</td>\n",
       "      <td>15092641</td>\n",
       "      <td>5265190</td>\n",
       "      <td>308617</td>\n",
       "    </tr>\n",
       "    <tr>\n",
       "      <th>61-70</th>\n",
       "      <td>10581121</td>\n",
       "      <td>179267</td>\n",
       "      <td>6082930</td>\n",
       "      <td>49525044</td>\n",
       "      <td>654977</td>\n",
       "      <td>1285484</td>\n",
       "      <td>13678532</td>\n",
       "      <td>446858</td>\n",
       "      <td>4086104</td>\n",
       "      <td>208276</td>\n",
       "      <td>...</td>\n",
       "      <td>3402507</td>\n",
       "      <td>9324764</td>\n",
       "      <td>3528417</td>\n",
       "      <td>4958188</td>\n",
       "      <td>28109003</td>\n",
       "      <td>3413011</td>\n",
       "      <td>2438561</td>\n",
       "      <td>14585064</td>\n",
       "      <td>5299760</td>\n",
       "      <td>309370</td>\n",
       "    </tr>\n",
       "    <tr>\n",
       "      <th>71+</th>\n",
       "      <td>12750234</td>\n",
       "      <td>202996</td>\n",
       "      <td>7333220</td>\n",
       "      <td>60344309</td>\n",
       "      <td>784271</td>\n",
       "      <td>1553116</td>\n",
       "      <td>16964019</td>\n",
       "      <td>556147</td>\n",
       "      <td>4934477</td>\n",
       "      <td>234543</td>\n",
       "      <td>...</td>\n",
       "      <td>4197876</td>\n",
       "      <td>11115791</td>\n",
       "      <td>4297763</td>\n",
       "      <td>5969851</td>\n",
       "      <td>34482735</td>\n",
       "      <td>4217330</td>\n",
       "      <td>2869267</td>\n",
       "      <td>18060968</td>\n",
       "      <td>6351020</td>\n",
       "      <td>363004</td>\n",
       "    </tr>\n",
       "  </tbody>\n",
       "</table>\n",
       "<p>6 rows × 21 columns</p>\n",
       "</div>"
      ],
      "text/plain": [
       "department_id        1       2        3         4       5        6         7   \\\n",
       "age_group                                                                       \n",
       "18-30          12554941  238962  7311616  60130947  943745  1651892  16411185   \n",
       "31-40          10537828  176377  6209922  51065589  793727  1342081  13598866   \n",
       "41-50          10619517  173907  6160848  50604362  701094  1353879  14120191   \n",
       "51-60          10696828  184706  6069378  50428686  722328  1315369  14043244   \n",
       "61-70          10581121  179267  6082930  49525044  654977  1285484  13678532   \n",
       "71+            12750234  202996  7333220  60344309  784271  1553116  16964019   \n",
       "\n",
       "department_id      8        9       10  ...       12        13       14  \\\n",
       "age_group                               ...                               \n",
       "18-30          556800  5059704  254265  ...  4128418  11283110  4397897   \n",
       "31-40          416366  4128485  199594  ...  3445542   9426723  3577849   \n",
       "41-50          437711  4128988  215753  ...  3474762   9500469  3667065   \n",
       "51-60          477769  4234094  192308  ...  3411860   9341805  3566770   \n",
       "61-70          446858  4086104  208276  ...  3402507   9324764  3528417   \n",
       "71+            556147  4934477  234543  ...  4197876  11115791  4297763   \n",
       "\n",
       "department_id       15        16       17       18        19       20      21  \n",
       "age_group                                                                      \n",
       "18-30          6188594  35011401  4113431  3025865  18025165  6362982  398925  \n",
       "31-40          5059548  29549309  3383952  2552156  15256687  5396115  316150  \n",
       "41-50          5101521  29483568  3545749  2649529  14755942  5347254  336929  \n",
       "51-60          5101211  28477623  3386150  2517948  15092641  5265190  308617  \n",
       "61-70          4958188  28109003  3413011  2438561  14585064  5299760  309370  \n",
       "71+            5969851  34482735  4217330  2869267  18060968  6351020  363004  \n",
       "\n",
       "[6 rows x 21 columns]"
      ]
     },
     "execution_count": 93,
     "metadata": {},
     "output_type": "execute_result"
    }
   ],
   "source": [
    "# see the result\n",
    "df_grouped_result"
   ]
  },
  {
   "cell_type": "code",
   "execution_count": 94,
   "id": "f7cb4e9f-7b02-4c0c-8323-4eeff1fd6bc6",
   "metadata": {},
   "outputs": [
    {
     "data": {
      "image/png": "[encoded data removed]",
      "text/plain": [
       "<Figure size 1000x600 with 1 Axes>"
      ]
     },
     "metadata": {},
     "output_type": "display_data"
    }
   ],
   "source": [
    "# Create a bar chart\n",
    "ax = df_grouped_result.plot(kind='bar', stacked=True, figsize=(10, 6))"
   ]
  },
  {
   "cell_type": "code",
   "execution_count": 95,
   "id": "d299f777-d095-4666-aa4c-1fd1e5465bdb",
   "metadata": {},
   "outputs": [],
   "source": [
    "# Get the Matplotlib figure from the axes object\n",
    "fig = ax.get_figure()"
   ]
  },
  {
   "cell_type": "code",
   "execution_count": 96,
   "id": "5ba22dd0-8027-49d1-8bb6-69361d783cd8",
   "metadata": {},
   "outputs": [],
   "source": [
    "# Save the figure to a file\n",
    "fig.savefig(os.path.join(path_2, 'bar_departments'))"
   ]
  },
  {
   "cell_type": "markdown",
   "id": "31914be4-4764-47f2-aff7-1cf71d4f8ee7",
   "metadata": {
    "jp-MarkdownHeadingCollapsed": true,
    "tags": []
   },
   "source": [
    "#### check highest order within department by age group"
   ]
  },
  {
   "cell_type": "code",
   "execution_count": 97,
   "id": "af60bdf2-9a70-4aa5-9ee2-1221a11b7c8d",
   "metadata": {},
   "outputs": [],
   "source": [
    "# Find the department with the highest order activity within each age group\n",
    "max_active_departments = grouped.groupby('age_group').idxmax()"
   ]
  },
  {
   "cell_type": "code",
   "execution_count": 98,
   "id": "dda19723-eff9-42f9-b7d4-ff677cb6f75a",
   "metadata": {},
   "outputs": [
    {
     "data": {
      "text/plain": [
       "age_group\n",
       "18-30    (18-30, 4)\n",
       "31-40    (31-40, 4)\n",
       "41-50    (41-50, 4)\n",
       "51-60    (51-60, 4)\n",
       "61-70    (61-70, 4)\n",
       "71+        (71+, 4)\n",
       "Name: max_order_flag, dtype: object"
      ]
     },
     "execution_count": 98,
     "metadata": {},
     "output_type": "execute_result"
    }
   ],
   "source": [
    "max_active_departments"
   ]
  },
  {
   "cell_type": "markdown",
   "id": "1afc17f0-649d-4c0d-8c09-a3a9e507524e",
   "metadata": {
    "jp-MarkdownHeadingCollapsed": true,
    "tags": []
   },
   "source": [
    "#### check busiest hour by age group related to 'max_order_flag'"
   ]
  },
  {
   "cell_type": "code",
   "execution_count": 99,
   "id": "f95350a7-d9ff-4a05-b48e-71d634fb8352",
   "metadata": {},
   "outputs": [],
   "source": [
    "# Group by 'age_group' and 'order_hour_of_day', then calculate the sum of 'max_order_flag'\n",
    "group_hour = df_final_table.groupby(['age_group', 'order_hour_of_day'])['max_order_flag'].sum()"
   ]
  },
  {
   "cell_type": "code",
   "execution_count": 100,
   "id": "406edf3f-9d83-41ab-acee-374da8635fdf",
   "metadata": {},
   "outputs": [
    {
     "name": "stdout",
     "output_type": "stream",
     "text": [
      "age_group  order_hour_of_day\n",
      "18-30      0                    1293787\n",
      "           1                     679895\n",
      "           2                     419093\n",
      "           3                     305009\n",
      "           4                     335431\n",
      "                                 ...   \n",
      "71+        19                   7486971\n",
      "           20                   6012988\n",
      "           21                   5108812\n",
      "           22                   3963754\n",
      "           23                   2413242\n",
      "Name: max_order_flag, Length: 144, dtype: int64\n"
     ]
    }
   ],
   "source": [
    "# see the result\n",
    "print(group_hour)"
   ]
  },
  {
   "cell_type": "code",
   "execution_count": 101,
   "id": "a38500c3-6fd7-419f-8533-d0f253b34abc",
   "metadata": {},
   "outputs": [],
   "source": [
    "# Convert the grouped data into a pivot table for line chart\n",
    "pivot_table = group_hour.unstack('age_group')"
   ]
  },
  {
   "cell_type": "code",
   "execution_count": 102,
   "id": "6fd56cbd-6fb1-47c4-bd1a-c3a8eb5eac87",
   "metadata": {},
   "outputs": [
    {
     "data": {
      "text/html": [
       "<div>\n",
       "<style scoped>\n",
       "    .dataframe tbody tr th:only-of-type {\n",
       "        vertical-align: middle;\n",
       "    }\n",
       "\n",
       "    .dataframe tbody tr th {\n",
       "        vertical-align: top;\n",
       "    }\n",
       "\n",
       "    .dataframe thead th {\n",
       "        text-align: right;\n",
       "    }\n",
       "</style>\n",
       "<table border=\"1\" class=\"dataframe\">\n",
       "  <thead>\n",
       "    <tr style=\"text-align: right;\">\n",
       "      <th>age_group</th>\n",
       "      <th>18-30</th>\n",
       "      <th>31-40</th>\n",
       "      <th>41-50</th>\n",
       "      <th>51-60</th>\n",
       "      <th>61-70</th>\n",
       "      <th>71+</th>\n",
       "    </tr>\n",
       "    <tr>\n",
       "      <th>order_hour_of_day</th>\n",
       "      <th></th>\n",
       "      <th></th>\n",
       "      <th></th>\n",
       "      <th></th>\n",
       "      <th></th>\n",
       "      <th></th>\n",
       "    </tr>\n",
       "  </thead>\n",
       "  <tbody>\n",
       "    <tr>\n",
       "      <th>0</th>\n",
       "      <td>1293787</td>\n",
       "      <td>1117717</td>\n",
       "      <td>1120593</td>\n",
       "      <td>1073387</td>\n",
       "      <td>1003213</td>\n",
       "      <td>1178939</td>\n",
       "    </tr>\n",
       "    <tr>\n",
       "      <th>1</th>\n",
       "      <td>679895</td>\n",
       "      <td>538113</td>\n",
       "      <td>578376</td>\n",
       "      <td>547961</td>\n",
       "      <td>473015</td>\n",
       "      <td>629136</td>\n",
       "    </tr>\n",
       "    <tr>\n",
       "      <th>2</th>\n",
       "      <td>419093</td>\n",
       "      <td>327867</td>\n",
       "      <td>332433</td>\n",
       "      <td>278810</td>\n",
       "      <td>302109</td>\n",
       "      <td>416010</td>\n",
       "    </tr>\n",
       "    <tr>\n",
       "      <th>3</th>\n",
       "      <td>305009</td>\n",
       "      <td>233008</td>\n",
       "      <td>239585</td>\n",
       "      <td>232227</td>\n",
       "      <td>225184</td>\n",
       "      <td>304878</td>\n",
       "    </tr>\n",
       "    <tr>\n",
       "      <th>4</th>\n",
       "      <td>335431</td>\n",
       "      <td>246416</td>\n",
       "      <td>239575</td>\n",
       "      <td>286378</td>\n",
       "      <td>304519</td>\n",
       "      <td>294316</td>\n",
       "    </tr>\n",
       "    <tr>\n",
       "      <th>5</th>\n",
       "      <td>570490</td>\n",
       "      <td>436435</td>\n",
       "      <td>457018</td>\n",
       "      <td>479660</td>\n",
       "      <td>485614</td>\n",
       "      <td>584410</td>\n",
       "    </tr>\n",
       "    <tr>\n",
       "      <th>6</th>\n",
       "      <td>2130562</td>\n",
       "      <td>1744121</td>\n",
       "      <td>1660827</td>\n",
       "      <td>1670978</td>\n",
       "      <td>1620004</td>\n",
       "      <td>2135283</td>\n",
       "    </tr>\n",
       "    <tr>\n",
       "      <th>7</th>\n",
       "      <td>6296664</td>\n",
       "      <td>5124074</td>\n",
       "      <td>4964180</td>\n",
       "      <td>5445622</td>\n",
       "      <td>5156217</td>\n",
       "      <td>6413492</td>\n",
       "    </tr>\n",
       "    <tr>\n",
       "      <th>8</th>\n",
       "      <td>11661604</td>\n",
       "      <td>9797921</td>\n",
       "      <td>9908727</td>\n",
       "      <td>9902425</td>\n",
       "      <td>9499305</td>\n",
       "      <td>11828659</td>\n",
       "    </tr>\n",
       "    <tr>\n",
       "      <th>9</th>\n",
       "      <td>16266434</td>\n",
       "      <td>13809613</td>\n",
       "      <td>13902733</td>\n",
       "      <td>13791996</td>\n",
       "      <td>13244354</td>\n",
       "      <td>16198155</td>\n",
       "    </tr>\n",
       "    <tr>\n",
       "      <th>10</th>\n",
       "      <td>17919828</td>\n",
       "      <td>14981019</td>\n",
       "      <td>14751206</td>\n",
       "      <td>14840752</td>\n",
       "      <td>14451546</td>\n",
       "      <td>17590326</td>\n",
       "    </tr>\n",
       "    <tr>\n",
       "      <th>11</th>\n",
       "      <td>17276335</td>\n",
       "      <td>14189909</td>\n",
       "      <td>14450989</td>\n",
       "      <td>14005816</td>\n",
       "      <td>13892567</td>\n",
       "      <td>16811110</td>\n",
       "    </tr>\n",
       "    <tr>\n",
       "      <th>12</th>\n",
       "      <td>15915055</td>\n",
       "      <td>13494512</td>\n",
       "      <td>13598854</td>\n",
       "      <td>13133528</td>\n",
       "      <td>13182962</td>\n",
       "      <td>15730947</td>\n",
       "    </tr>\n",
       "    <tr>\n",
       "      <th>13</th>\n",
       "      <td>16174833</td>\n",
       "      <td>13723927</td>\n",
       "      <td>13748962</td>\n",
       "      <td>13302123</td>\n",
       "      <td>13492625</td>\n",
       "      <td>16115737</td>\n",
       "    </tr>\n",
       "    <tr>\n",
       "      <th>14</th>\n",
       "      <td>16485567</td>\n",
       "      <td>13966577</td>\n",
       "      <td>13679969</td>\n",
       "      <td>13488364</td>\n",
       "      <td>13483857</td>\n",
       "      <td>16369626</td>\n",
       "    </tr>\n",
       "    <tr>\n",
       "      <th>15</th>\n",
       "      <td>16194551</td>\n",
       "      <td>13641460</td>\n",
       "      <td>13372024</td>\n",
       "      <td>13264728</td>\n",
       "      <td>13288969</td>\n",
       "      <td>15821356</td>\n",
       "    </tr>\n",
       "    <tr>\n",
       "      <th>16</th>\n",
       "      <td>15114964</td>\n",
       "      <td>12559606</td>\n",
       "      <td>12508944</td>\n",
       "      <td>12322848</td>\n",
       "      <td>12542514</td>\n",
       "      <td>14959741</td>\n",
       "    </tr>\n",
       "    <tr>\n",
       "      <th>17</th>\n",
       "      <td>12058317</td>\n",
       "      <td>9895939</td>\n",
       "      <td>10195790</td>\n",
       "      <td>10077087</td>\n",
       "      <td>9955926</td>\n",
       "      <td>12120564</td>\n",
       "    </tr>\n",
       "    <tr>\n",
       "      <th>18</th>\n",
       "      <td>9091601</td>\n",
       "      <td>7836175</td>\n",
       "      <td>8038565</td>\n",
       "      <td>7792691</td>\n",
       "      <td>7621686</td>\n",
       "      <td>9585935</td>\n",
       "    </tr>\n",
       "    <tr>\n",
       "      <th>19</th>\n",
       "      <td>7259507</td>\n",
       "      <td>6024072</td>\n",
       "      <td>6218765</td>\n",
       "      <td>6119155</td>\n",
       "      <td>6052859</td>\n",
       "      <td>7486971</td>\n",
       "    </tr>\n",
       "    <tr>\n",
       "      <th>20</th>\n",
       "      <td>6037896</td>\n",
       "      <td>4998945</td>\n",
       "      <td>5092596</td>\n",
       "      <td>5130645</td>\n",
       "      <td>4731904</td>\n",
       "      <td>6012988</td>\n",
       "    </tr>\n",
       "    <tr>\n",
       "      <th>21</th>\n",
       "      <td>4885697</td>\n",
       "      <td>4311564</td>\n",
       "      <td>4119340</td>\n",
       "      <td>4372111</td>\n",
       "      <td>4042491</td>\n",
       "      <td>5108812</td>\n",
       "    </tr>\n",
       "    <tr>\n",
       "      <th>22</th>\n",
       "      <td>3864337</td>\n",
       "      <td>3496007</td>\n",
       "      <td>3295986</td>\n",
       "      <td>3350385</td>\n",
       "      <td>3139741</td>\n",
       "      <td>3963754</td>\n",
       "    </tr>\n",
       "    <tr>\n",
       "      <th>23</th>\n",
       "      <td>2351204</td>\n",
       "      <td>2042278</td>\n",
       "      <td>2105167</td>\n",
       "      <td>2110670</td>\n",
       "      <td>2034528</td>\n",
       "      <td>2413242</td>\n",
       "    </tr>\n",
       "  </tbody>\n",
       "</table>\n",
       "</div>"
      ],
      "text/plain": [
       "age_group             18-30     31-40     41-50     51-60     61-70       71+\n",
       "order_hour_of_day                                                            \n",
       "0                   1293787   1117717   1120593   1073387   1003213   1178939\n",
       "1                    679895    538113    578376    547961    473015    629136\n",
       "2                    419093    327867    332433    278810    302109    416010\n",
       "3                    305009    233008    239585    232227    225184    304878\n",
       "4                    335431    246416    239575    286378    304519    294316\n",
       "5                    570490    436435    457018    479660    485614    584410\n",
       "6                   2130562   1744121   1660827   1670978   1620004   2135283\n",
       "7                   6296664   5124074   4964180   5445622   5156217   6413492\n",
       "8                  11661604   9797921   9908727   9902425   9499305  11828659\n",
       "9                  16266434  13809613  13902733  13791996  13244354  16198155\n",
       "10                 17919828  14981019  14751206  14840752  14451546  17590326\n",
       "11                 17276335  14189909  14450989  14005816  13892567  16811110\n",
       "12                 15915055  13494512  13598854  13133528  13182962  15730947\n",
       "13                 16174833  13723927  13748962  13302123  13492625  16115737\n",
       "14                 16485567  13966577  13679969  13488364  13483857  16369626\n",
       "15                 16194551  13641460  13372024  13264728  13288969  15821356\n",
       "16                 15114964  12559606  12508944  12322848  12542514  14959741\n",
       "17                 12058317   9895939  10195790  10077087   9955926  12120564\n",
       "18                  9091601   7836175   8038565   7792691   7621686   9585935\n",
       "19                  7259507   6024072   6218765   6119155   6052859   7486971\n",
       "20                  6037896   4998945   5092596   5130645   4731904   6012988\n",
       "21                  4885697   4311564   4119340   4372111   4042491   5108812\n",
       "22                  3864337   3496007   3295986   3350385   3139741   3963754\n",
       "23                  2351204   2042278   2105167   2110670   2034528   2413242"
      ]
     },
     "execution_count": 102,
     "metadata": {},
     "output_type": "execute_result"
    }
   ],
   "source": [
    "# see the result\n",
    "pivot_table"
   ]
  },
  {
   "cell_type": "code",
   "execution_count": 103,
   "id": "4007d7c2-020f-4592-8e05-a7d12072d071",
   "metadata": {},
   "outputs": [
    {
     "data": {
      "text/plain": [
       "Text(0.5, 1.0, 'Line Chart of Max Order Flags by Age Group and Hour of Day')"
      ]
     },
     "execution_count": 103,
     "metadata": {},
     "output_type": "execute_result"
    },
    {
     "data": {
      "image/png": "[encoded data removed]",
      "text/plain": [
       "<Figure size 1000x600 with 1 Axes>"
      ]
     },
     "metadata": {},
     "output_type": "display_data"
    }
   ],
   "source": [
    "# Plotting as a line chart\n",
    "ax = pivot_table.plot(kind='line', figsize=(10, 6))\n",
    "\n",
    "# Adding labels and title\n",
    "plt.xlabel('Order Hour of Day')\n",
    "plt.ylabel('Sum of Max Order Flags')\n",
    "plt.title('Line Chart of Max Order Flags by Age Group and Hour of Day')"
   ]
  },
  {
   "cell_type": "code",
   "execution_count": 104,
   "id": "6c26ca38-147e-40b2-8608-e3b7d91efd10",
   "metadata": {},
   "outputs": [],
   "source": [
    "# Save the plot as an image (e.g., PNG)\n",
    "image_path = os.path.join(path_2, 'line_time_age.png')\n",
    "ax.figure.savefig(image_path)\n",
    "\n",
    "# Display the plot\n",
    "plt.show()"
   ]
  },
  {
   "cell_type": "markdown",
   "id": "65582888-1ebb-4c12-b122-152b3698cd1b",
   "metadata": {
    "jp-MarkdownHeadingCollapsed": true,
    "tags": []
   },
   "source": [
    "#### check busiest day by age group | related to 'max_order_flag'"
   ]
  },
  {
   "cell_type": "code",
   "execution_count": 105,
   "id": "0ae4a184-1e09-4d94-8aa0-4237d68416af",
   "metadata": {},
   "outputs": [],
   "source": [
    "# Group by 'age_group' and 'order_day_of_week', then calculate the sum of 'max_order_flag'\n",
    "group_day = df_final_table.groupby(['age_group', 'order_day_of_week'])['max_order_flag'].sum()"
   ]
  },
  {
   "cell_type": "code",
   "execution_count": 106,
   "id": "75d780a0-d2ae-447a-a953-3078939dd0ee",
   "metadata": {},
   "outputs": [
    {
     "name": "stdout",
     "output_type": "stream",
     "text": [
      "age_group  order_day_of_week\n",
      "18-30      0                    35916203\n",
      "           1                    35583712\n",
      "           2                    26360432\n",
      "           3                    24343854\n",
      "           4                    24622043\n",
      "           5                    27481029\n",
      "           6                    26281388\n",
      "31-40      0                    30241309\n",
      "           1                    30431455\n",
      "           2                    21942906\n",
      "           3                    20663274\n",
      "           4                    20924136\n",
      "           5                    22909100\n",
      "           6                    21425095\n",
      "41-50      0                    29826804\n",
      "           1                    29593375\n",
      "           2                    22364186\n",
      "           3                    20688664\n",
      "           4                    20807338\n",
      "           5                    22760376\n",
      "           6                    22540461\n",
      "51-60      0                    29869772\n",
      "           1                    29466835\n",
      "           2                    22335161\n",
      "           3                    20352726\n",
      "           4                    20085082\n",
      "           5                    22502566\n",
      "           6                    22408205\n",
      "61-70      0                    28809443\n",
      "           1                    28767443\n",
      "           2                    21697563\n",
      "           3                    20348685\n",
      "           4                    20412584\n",
      "           5                    22473210\n",
      "           6                    21718781\n",
      "71+        0                    36014432\n",
      "           1                    34963762\n",
      "           2                    26288523\n",
      "           3                    24612429\n",
      "           4                    24366719\n",
      "           5                    27186859\n",
      "           6                    26641663\n",
      "Name: max_order_flag, dtype: int64\n"
     ]
    }
   ],
   "source": [
    "# see the result\n",
    "print(group_day)"
   ]
  },
  {
   "cell_type": "code",
   "execution_count": 107,
   "id": "e5dcfc1c-a58a-4075-b151-02a6567a7920",
   "metadata": {},
   "outputs": [],
   "source": [
    "# Convert the grouped data into a pivot table for bar chart\n",
    "pivot_table = group_day.unstack('age_group')"
   ]
  },
  {
   "cell_type": "code",
   "execution_count": 108,
   "id": "fc2b2fe6-e7ca-4001-bab3-f145842b8045",
   "metadata": {},
   "outputs": [
    {
     "data": {
      "text/plain": [
       "Text(0.5, 1.0, 'Count of Busiest Days by Age Group')"
      ]
     },
     "execution_count": 108,
     "metadata": {},
     "output_type": "execute_result"
    },
    {
     "data": {
      "image/png": "[encoded data removed]",
      "text/plain": [
       "<Figure size 1000x600 with 1 Axes>"
      ]
     },
     "metadata": {},
     "output_type": "display_data"
    }
   ],
   "source": [
    "# Plotting as a line chart\n",
    "ax = pivot_table.plot(kind='bar', figsize=(10, 6))\n",
    "\n",
    "# Add labels and title\n",
    "plt.title('Count of Busiest Days by Age Group')\n"
   ]
  },
  {
   "cell_type": "code",
   "execution_count": 109,
   "id": "269a3576-7cac-4b84-a18d-397e4c0b3d3c",
   "metadata": {},
   "outputs": [],
   "source": [
    "# Save the plot as an image (e.g., PNG)\n",
    "image_path = os.path.join(path_2, 'bar_day_age.png')\n",
    "ax.figure.savefig(image_path)\n",
    "\n",
    "# Display the plot\n",
    "plt.show()"
   ]
  },
  {
   "cell_type": "markdown",
   "id": "ca45e63d-ba09-48db-a4fc-5c4982782e54",
   "metadata": {
    "jp-MarkdownHeadingCollapsed": true,
    "tags": []
   },
   "source": [
    "#### check family status\n",
    "###### busiest day fam_status | price range by fam_status | dependants by fam_status"
   ]
  },
  {
   "cell_type": "code",
   "execution_count": 110,
   "id": "48da0ef0-150a-4e66-98ba-bcc67027c1b8",
   "metadata": {},
   "outputs": [],
   "source": [
    "# Create a pivot table to get the count of busiest days by age group\n",
    "pivot_table = pd.pivot_table(df_final_table, index='fam_status', columns='busiest_day', aggfunc='size', fill_value=0)"
   ]
  },
  {
   "cell_type": "code",
   "execution_count": 111,
   "id": "84990859-bab4-44c2-9dfa-203ca21d5706",
   "metadata": {},
   "outputs": [
    {
     "name": "stdout",
     "output_type": "stream",
     "text": [
      "busiest_day                       Busiest day  Least busy  Regularly busy\n",
      "fam_status                                                               \n",
      "divorced/widowed                       528021      319775         1915808\n",
      "living with parents and siblings       294935      180328         1071687\n",
      "married                               4353873     2648936        15694519\n",
      "single                                1020615      622042         3668342\n"
     ]
    }
   ],
   "source": [
    "# see the result\n",
    "print(pivot_table)"
   ]
  },
  {
   "cell_type": "code",
   "execution_count": 112,
   "id": "0d837ce5-6487-4a37-a6d4-829805724674",
   "metadata": {},
   "outputs": [
    {
     "data": {
      "image/png": "[encoded data removed]",
      "text/plain": [
       "<Figure size 1000x600 with 1 Axes>"
      ]
     },
     "metadata": {},
     "output_type": "display_data"
    }
   ],
   "source": [
    "# Plotting as a line chart\n",
    "ax = pivot_table.plot(kind='bar', figsize=(10, 6))\n",
    "# Adjust layout to prevent the title from being cut off\n",
    "plt.tight_layout()"
   ]
  },
  {
   "cell_type": "code",
   "execution_count": 113,
   "id": "d7c80891-3110-495a-9815-02e00285f722",
   "metadata": {},
   "outputs": [],
   "source": [
    "# Save the plot as an image (e.g., PNG)\n",
    "image_path = os.path.join(path_2, 'bar_fam_status')\n",
    "ax.figure.savefig(image_path)\n",
    "\n",
    "# Display the plot\n",
    "plt.show()"
   ]
  },
  {
   "cell_type": "code",
   "execution_count": 114,
   "id": "fca7bde4-f2ed-482a-8df7-d6d9b618bde8",
   "metadata": {},
   "outputs": [],
   "source": [
    "# Create a pivot table to get the count of fam_status and age by age group\n",
    "pivot_table = pd.pivot_table(df_final_table, index='fam_status', columns='price_range_flag', aggfunc='size', fill_value=0)"
   ]
  },
  {
   "cell_type": "code",
   "execution_count": 115,
   "id": "3c027d69-bda2-41ac-af29-5e63df6ed849",
   "metadata": {},
   "outputs": [
    {
     "name": "stdout",
     "output_type": "stream",
     "text": [
      "price_range_flag                  High range product  Low-range product  \\\n",
      "fam_status                                                                \n",
      "divorced/widowed                               35303             860639   \n",
      "living with parents and siblings               19764             481104   \n",
      "married                                       291795            7073400   \n",
      "single                                         65636            1655902   \n",
      "\n",
      "price_range_flag                  Mid-range product  \n",
      "fam_status                                           \n",
      "divorced/widowed                            1867662  \n",
      "living with parents and siblings            1046082  \n",
      "married                                    15332133  \n",
      "single                                      3589461  \n"
     ]
    }
   ],
   "source": [
    "# see the result\n",
    "print(pivot_table)"
   ]
  },
  {
   "cell_type": "code",
   "execution_count": 116,
   "id": "d3803e21-b94a-4e21-afdd-dbff07ef6deb",
   "metadata": {},
   "outputs": [
    {
     "data": {
      "image/png": "[encoded data removed]",
      "text/plain": [
       "<Figure size 1000x600 with 1 Axes>"
      ]
     },
     "metadata": {},
     "output_type": "display_data"
    }
   ],
   "source": [
    "# Plotting as a line chart\n",
    "ax = pivot_table.plot(kind='bar', figsize=(10, 6))\n",
    "# Adjust layout to prevent the title from being cut off\n",
    "plt.tight_layout()"
   ]
  },
  {
   "cell_type": "code",
   "execution_count": 117,
   "id": "95d2dfe0-7eba-448b-9f5a-a187d776fb68",
   "metadata": {},
   "outputs": [],
   "source": [
    "# Save the plot as an image (e.g., PNG)\n",
    "image_path = os.path.join(path_2, 'bar_fam_status_range_product')\n",
    "ax.figure.savefig(image_path)\n",
    "\n",
    "# Display the plot\n",
    "plt.show()"
   ]
  },
  {
   "cell_type": "code",
   "execution_count": 118,
   "id": "02394eee-9a6d-48ad-beaf-59e36a9de398",
   "metadata": {},
   "outputs": [],
   "source": [
    "# Create a pivot table to get the count of fam_status and age by age group\n",
    "pivot_table = pd.pivot_table(df_final_table, index='fam_status', columns='n_dependants', aggfunc='size', fill_value=0)"
   ]
  },
  {
   "cell_type": "code",
   "execution_count": 119,
   "id": "de0f7709-f543-471e-999b-5d103896ee8e",
   "metadata": {
    "tags": []
   },
   "outputs": [
    {
     "name": "stdout",
     "output_type": "stream",
     "text": [
      "n_dependants                            0        1        2        3\n",
      "fam_status                                                          \n",
      "divorced/widowed                  2763604        0        0        0\n",
      "living with parents and siblings        0   528956   507015   510979\n",
      "married                                 0  7532119  7563149  7602060\n",
      "single                            5310999        0        0        0\n"
     ]
    }
   ],
   "source": [
    "# see the result\n",
    "print(pivot_table)"
   ]
  },
  {
   "cell_type": "code",
   "execution_count": 120,
   "id": "6307482f-cd56-4026-99ab-1b1d83997fcf",
   "metadata": {},
   "outputs": [
    {
     "data": {
      "image/png": "[encoded data removed]",
      "text/plain": [
       "<Figure size 1000x600 with 1 Axes>"
      ]
     },
     "metadata": {},
     "output_type": "display_data"
    }
   ],
   "source": [
    "# Plotting as a line chart\n",
    "ax = pivot_table.plot(kind='bar', figsize=(10, 6))\n",
    "\n",
    "# Adjust layout to prevent the title from being cut off\n",
    "plt.tight_layout()"
   ]
  },
  {
   "cell_type": "code",
   "execution_count": 121,
   "id": "07f8eb12-25a5-4c4e-bab8-b52c2615310a",
   "metadata": {},
   "outputs": [],
   "source": [
    "# Save the plot as an image (e.g., PNG)\n",
    "image_path = os.path.join(path_2, 'bar_fam_status_dependants')\n",
    "ax.figure.savefig(image_path)\n",
    "\n",
    "# Display the plot\n",
    "plt.show()"
   ]
  },
  {
   "cell_type": "markdown",
   "id": "61698178-7dbe-48e8-983b-303c19bb52fe",
   "metadata": {
    "jp-MarkdownHeadingCollapsed": true,
    "tags": []
   },
   "source": [
    "#### check income by reordered"
   ]
  },
  {
   "cell_type": "code",
   "execution_count": 122,
   "id": "49654e4f-c52b-430b-b474-481edad601d1",
   "metadata": {},
   "outputs": [],
   "source": [
    "# Create a pivot table to get the count of fam_status and age by age group\n",
    "pivot_table = pd.pivot_table(df_final_table, index='fam_status', columns='reordered', aggfunc='size', fill_value=0)"
   ]
  },
  {
   "cell_type": "code",
   "execution_count": 123,
   "id": "2ede322e-2106-433c-aeed-9ca5a36a79f9",
   "metadata": {},
   "outputs": [
    {
     "name": "stdout",
     "output_type": "stream",
     "text": [
      "reordered                               0         1\n",
      "fam_status                                         \n",
      "divorced/widowed                  1133387   1630217\n",
      "living with parents and siblings   633021    913929\n",
      "married                           9328502  13368826\n",
      "single                            2175493   3135506\n"
     ]
    }
   ],
   "source": [
    "# see the result\n",
    "print(pivot_table)"
   ]
  },
  {
   "cell_type": "code",
   "execution_count": 124,
   "id": "f44f1d5a-9a48-4219-8d56-f06808d2b88f",
   "metadata": {},
   "outputs": [
    {
     "name": "stdout",
     "output_type": "stream",
     "text": [
      "<class 'pandas.core.frame.DataFrame'>\n",
      "Int64Index: 32318881 entries, 0 to 32406040\n",
      "Data columns (total 35 columns):\n",
      " #   Column                  Dtype   \n",
      "---  ------                  -----   \n",
      " 0   order_id                int64   \n",
      " 1   product_id              int64   \n",
      " 2   product_name            object  \n",
      " 3   prices                  float64 \n",
      " 4   department_id           int64   \n",
      " 5   order_number            int64   \n",
      " 6   order_day_of_week       int64   \n",
      " 7   order_hour_of_day       int64   \n",
      " 8   days_since_prior_order  float64 \n",
      " 9   add_to_cart_order       int64   \n",
      " 10  user_id                 int64   \n",
      " 11  date_joined             object  \n",
      " 12  first_name              object  \n",
      " 13  surname                 object  \n",
      " 14  gender                  category\n",
      " 15  age                     int64   \n",
      " 16  fam_status              object  \n",
      " 17  n_dependants            int64   \n",
      " 18  income                  int64   \n",
      " 19  state                   object  \n",
      " 20  busiest_period_of_day   object  \n",
      " 21  busiest_day             object  \n",
      " 22  price_range_flag        object  \n",
      " 23  reordered               int64   \n",
      " 24  max_order_flag          int64   \n",
      " 25  loyalty_flag            object  \n",
      " 26  mean_order_flag         float64 \n",
      " 27  spending_flag           object  \n",
      " 28  median_prior_orders     float64 \n",
      " 29  frequency_flag          object  \n",
      " 30  aisle_id                int64   \n",
      " 31  eval_set                object  \n",
      " 32  region                  object  \n",
      " 33  low_activity_flag       object  \n",
      " 34  age_group               category\n",
      "dtypes: category(2), float64(4), int64(14), object(15)\n",
      "memory usage: 8.2+ GB\n"
     ]
    }
   ],
   "source": [
    "df_final_table.info()"
   ]
  },
  {
   "cell_type": "code",
   "execution_count": 125,
   "id": "7b402fad-f391-4d20-b19f-ffddbe3f418e",
   "metadata": {},
   "outputs": [
    {
     "data": {
      "image/png": "[encoded data removed]",
      "text/plain": [
       "<Figure size 1000x600 with 1 Axes>"
      ]
     },
     "metadata": {},
     "output_type": "display_data"
    }
   ],
   "source": [
    "# Plotting as a bar chart\n",
    "ax = pivot_table.plot(kind='bar', figsize=(10, 6))\n",
    "\n",
    "# Adjust layout to prevent the title from being cut off\n",
    "plt.tight_layout()"
   ]
  },
  {
   "cell_type": "code",
   "execution_count": 129,
   "id": "e81e1f2b-9d63-4ec8-b98a-93d78d8c17eb",
   "metadata": {},
   "outputs": [
    {
     "name": "stdout",
     "output_type": "stream",
     "text": [
      "Statistics for 'order_number':\n",
      "  Maximum value: 99\n",
      "  Minimum value: 1\n",
      "  Mean value: 17.154899298648367\n"
     ]
    }
   ],
   "source": [
    "# Specify the column name to analyze\n",
    "order_number = 'order_number'\n",
    "\n",
    "# Calculate the maximum, minimum, and mean values for the specified column\n",
    "max_value = df_final_table[order_number].max()\n",
    "min_value = df_final_table[order_number].min()\n",
    "mean_value = df_final_table[order_number].mean()\n",
    "\n",
    "# Print all three results in a single print statement\n",
    "print(f\"Statistics for '{order_number}':\")\n",
    "print(f\"  Maximum value: {max_value}\")\n",
    "print(f\"  Minimum value: {min_value}\")\n",
    "print(f\"  Mean value: {mean_value}\")"
   ]
  },
  {
   "cell_type": "code",
   "execution_count": 130,
   "id": "33371782-fb45-4268-8688-c575459490c5",
   "metadata": {
    "tags": []
   },
   "outputs": [
    {
     "data": {
      "image/png": "[encoded data removed]",
      "text/plain": [
       "<Figure size 1000x600 with 1 Axes>"
      ]
     },
     "metadata": {},
     "output_type": "display_data"
    }
   ],
   "source": [
    "min_value = 1\n",
    "max_value = 99\n",
    "mean_value = 17.142232060991343\n",
    "\n",
    "# Create a DataFrame containing the calculated values\n",
    "result_data = pd.Series([min_value, max_value, mean_value], index=['Minimum', 'Maximum', 'Mean'])\n",
    "\n",
    "# Plotting the data as a bar chart\n",
    "ax = result_data.plot(kind='bar', figsize=(10, 6))"
   ]
  },
  {
   "cell_type": "code",
   "execution_count": null,
   "id": "1aec5595-6ed3-49a0-865d-96f7f1316790",
   "metadata": {},
   "outputs": [],
   "source": [
    "# Export data to pkl\n",
    "\n",
    "df_final_table.to_pickle(os.path.join(path, 'df_final_table_part_2.pkl'))"
   ]
  },
  {
   "cell_type": "markdown",
   "id": "f5848241-13c0-4e4c-a6c9-c63d1f0e548b",
   "metadata": {},
   "source": [
    "#### check Part 2, delves even deeper into the world of data analysis"
   ]
  }
 ],
 "metadata": {
  "kernelspec": {
   "display_name": "Python 3 (ipykernel)",
   "language": "python",
   "name": "python3"
  },
  "language_info": {
   "codemirror_mode": {
    "name": "ipython",
    "version": 3
   },
   "file_extension": ".py",
   "mimetype": "text/x-python",
   "name": "python",
   "nbconvert_exporter": "python",
   "pygments_lexer": "ipython3",
   "version": "3.11.3"
  }
 },
 "nbformat": 4,
 "nbformat_minor": 5
}
